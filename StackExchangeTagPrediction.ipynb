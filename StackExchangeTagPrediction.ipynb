{
 "cells": [
  {
   "cell_type": "code",
   "execution_count": 1,
   "metadata": {},
   "outputs": [],
   "source": [
    "# Spark imports\n",
    "import pyspark\n",
    "from pyspark.rdd import RDD\n",
    "from pyspark.sql import DataFrame, Row\n",
    "from pyspark.sql import SparkSession\n",
    "from pyspark import SparkContext\n",
    "from pyspark.sql.functions import desc\n",
    "import pandas as pd\n",
    "from pyspark.sql import SparkSession\n",
    "from pyspark.sql.functions import split, col, expr, concat, udf, array_contains\n",
    "from pyspark.ml.feature import HashingTF, IDF, Tokenizer, Word2Vec\n",
    "from pyspark.ml.classification import DecisionTreeClassifier, LogisticRegression\n",
    "from pyspark.mllib.classification import LogisticRegressionWithLBFGS\n",
    "from pyspark.mllib.regression import LabeledPoint\n",
    "from pyspark.sql.types import ArrayType, StringType, FloatType, IntegerType\n",
    "from pyspark.ml.evaluation import MulticlassClassificationEvaluator\n",
    "from pyspark.sql.functions import countDistinct\n",
    "from pyspark.sql.types import DoubleType\n",
    "\n",
    "# Others\n",
    "from csv import reader\n",
    "import csv\n",
    "import os\n",
    "import sys\n",
    "import matplotlib.pyplot as plt\n",
    "from collections import defaultdict\n",
    "import numpy as np"
   ]
  },
  {
   "cell_type": "code",
   "execution_count": 2,
   "metadata": {},
   "outputs": [],
   "source": [
    "def init_spark():\n",
    "    spark = SparkSession \\\n",
    "        .builder \\\n",
    "        .appName(\"Python Spark SQL basic example\") \\\n",
    "        .config(\"spark.some.config.option\", \"some-value\") \\\n",
    "        .getOrCreate()\n",
    "    return spark"
   ]
  },
  {
   "cell_type": "markdown",
   "metadata": {},
   "source": [
    "Investigate the original dataset (obviously, it cannot be used). Take a look at https://stackoverflow.com/questions/13793529/r-error-invalid-type-list-for-variable to see how useless the Body column information could be!\n",
    "\n",
    "The point here is that the body information consists mostly of codes and some weird patterns that are not useful for our purpose. The most important information here is the connection between the title of the questions and tags. So, we removed the Body column from the dataset.\n",
    "\n",
    "For removing the Body column, we read all the dataset once using Pandas library. After that, we removed the column and got an export to have a concrete file as our dataset. This part has been ommited from the notebook."
   ]
  },
  {
   "cell_type": "code",
   "execution_count": 3,
   "metadata": {},
   "outputs": [
    {
     "data": {
      "text/plain": [
       "6017243"
      ]
     },
     "execution_count": 3,
     "metadata": {},
     "output_type": "execute_result"
    }
   ],
   "source": [
    "spark = init_spark()\n",
    "spark.catalog.clearCache()\n",
    "\n",
    "filename = \"./TrainWithoutBody.csv\"\n",
    "df1 = spark.read.option(\"multiLine\", 'true').option(\"escape\",\"\\'\").csv(filename, header=True)\n",
    "df1 = df1.drop(\"_c0\")\n",
    "df1 = df1.dropna()\n",
    "rddTags = df1.select(\"Tags\").rdd\n",
    "\n",
    "df1.count()"
   ]
  },
  {
   "cell_type": "code",
   "execution_count": 4,
   "metadata": {},
   "outputs": [],
   "source": [
    "splittedTags1 = rddTags.filter(lambda r: r[0] != None).flatMap(lambda r: r[0].split(\" \")).map(lambda r: (r, 1)).reduceByKey(lambda x, y: x + y)\n",
    "splittedTags1 = splittedTags1.sortBy(lambda r: r[1], False) #Sorted with number of usage (you can collect and see)\n",
    "splittedTagsSorted1 = splittedTags1.map(lambda r: r[0]) #Delete this line if you want to see number of times they have been used.\n",
    "mostUsedTags_validation = splittedTagsSorted1.collect()[0:50]"
   ]
  },
  {
   "cell_type": "markdown",
   "metadata": {},
   "source": [
    "# Finding the 100 most used tags (one DT per each most used tag)"
   ]
  },
  {
   "cell_type": "code",
   "execution_count": 5,
   "metadata": {},
   "outputs": [],
   "source": [
    "splittedTags = rddTags.filter(lambda r: r[0] != None).flatMap(lambda r: r[0].split(\" \")).map(lambda r: r.replace(\".\", \"\")).map(lambda r: (r, 1)).reduceByKey(lambda x, y: x + y)\n",
    "splittedTags = splittedTags.sortBy(lambda r: r[1], False) #Sorted with number of usage (you can collect and see)"
   ]
  },
  {
   "cell_type": "markdown",
   "metadata": {},
   "source": [
    "### Tag v/s Count Distribution for all tags"
   ]
  },
  {
   "cell_type": "code",
   "execution_count": 6,
   "metadata": {},
   "outputs": [
    {
     "name": "stdout",
     "output_type": "stream",
     "text": [
      "+-------------+------+\n",
      "|          tag| count|\n",
      "+-------------+------+\n",
      "|           c#|461574|\n",
      "|         java|410466|\n",
      "|          php|390630|\n",
      "|   javascript|364076|\n",
      "|      android|319310|\n",
      "|       jquery|304343|\n",
      "|          c++|198261|\n",
      "|       python|183945|\n",
      "|       iphone|182853|\n",
      "|       aspnet|176610|\n",
      "|        mysql|171367|\n",
      "|         html|164795|\n",
      "|          net|161728|\n",
      "|          ios|135545|\n",
      "|  objective-c|133391|\n",
      "|          sql|131850|\n",
      "|          css|128586|\n",
      "|        linux|127003|\n",
      "|ruby-on-rails|116184|\n",
      "|      windows| 97652|\n",
      "+-------------+------+\n",
      "only showing top 20 rows\n",
      "\n"
     ]
    },
    {
     "data": {
      "image/png": "[encoded data removed]",
      "text/plain": [
       "<Figure size 432x288 with 1 Axes>"
      ]
     },
     "metadata": {
      "needs_background": "light"
     },
     "output_type": "display_data"
    }
   ],
   "source": [
    "tagCountDF = splittedTags.toDF([\"tag\", \"count\"])\n",
    "tagCountDF.show()\n",
    "cCount = tagCountDF.select(\"count\").collect()\n",
    "plt.plot([i for i in range(splittedTags.count())], cCount)\n",
    "plt.title(\"Tag v/s Count distribution\")\n",
    "plt.ylabel(\"Tag Count\")\n",
    "plt.xlabel(\"Tag ID\")\n",
    "plt.grid()"
   ]
  },
  {
   "cell_type": "markdown",
   "metadata": {},
   "source": [
    "### Tag v/s Count Distribution for the top 500 tags"
   ]
  },
  {
   "cell_type": "code",
   "execution_count": 7,
   "metadata": {},
   "outputs": [
    {
     "data": {
      "image/png": "[encoded data removed]",
      "text/plain": [
       "<Figure size 432x288 with 1 Axes>"
      ]
     },
     "metadata": {
      "needs_background": "light"
     },
     "output_type": "display_data"
    }
   ],
   "source": [
    "plt.plot([i for i in range(500)], cCount[:500])\n",
    "plt.title(\"Tag v/s Count distribution for first 500 tags\")\n",
    "plt.ylabel(\"Tag Count\")\n",
    "plt.xlabel(\"Tag ID\")\n",
    "plt.grid()"
   ]
  },
  {
   "cell_type": "markdown",
   "metadata": {},
   "source": [
    "### Tag v/s Count Distribution for the top 100 tags"
   ]
  },
  {
   "cell_type": "code",
   "execution_count": 8,
   "metadata": {},
   "outputs": [
    {
     "data": {
      "image/png": "[encoded data removed]",
      "text/plain": [
       "<Figure size 432x288 with 1 Axes>"
      ]
     },
     "metadata": {
      "needs_background": "light"
     },
     "output_type": "display_data"
    }
   ],
   "source": [
    "plt.plot([i for i in range(100)], cCount[:100])\n",
    "plt.title(\"Tag v/s Count distribution for first 100 tags\")\n",
    "plt.ylabel(\"Tag Count\")\n",
    "plt.xlabel(\"Tag ID\")\n",
    "plt.grid()"
   ]
  },
  {
   "cell_type": "markdown",
   "metadata": {},
   "source": [
    "### Tag v/s Count Distribution for the 10 best tags"
   ]
  },
  {
   "cell_type": "code",
   "execution_count": 9,
   "metadata": {},
   "outputs": [
    {
     "data": {
      "image/png": "[encoded data removed]",
      "text/plain": [
       "<Figure size 800x480 with 1 Axes>"
      ]
     },
     "metadata": {
      "needs_background": "light"
     },
     "output_type": "display_data"
    }
   ],
   "source": [
    "cTag = tagCountDF.select(\"tag\").take(10)\n",
    "\n",
    "plt.figure(figsize=(10, 6), dpi=80)\n",
    "plt.bar([i for i in range(10)], [r.__getitem__(\"count\") for r in cCount[:10]], tick_label=[r.__getitem__(\"tag\") for r in cTag])\n",
    "plt.title(\"Tag v/s Count distribution for first 10 tags\")\n",
    "plt.ylabel(\"Tag Count\")\n",
    "plt.xlabel(\"Tag ID\")\n",
    "plt.grid()"
   ]
  },
  {
   "cell_type": "code",
   "execution_count": 10,
   "metadata": {},
   "outputs": [],
   "source": [
    "splittedTagsSorted = splittedTags.map(lambda r: r[0]) #Delete this line if you want to see number of times they have been used.\n",
    "mostUsedTags = splittedTagsSorted.collect()[0:50]\n",
    "# uncomment bellow to display all mostUsedTags\n",
    "# mostUsedTags"
   ]
  },
  {
   "cell_type": "markdown",
   "metadata": {},
   "source": [
    "# TF-IDF Title"
   ]
  },
  {
   "cell_type": "markdown",
   "metadata": {},
   "source": [
    "## Sampling"
   ]
  },
  {
   "cell_type": "code",
   "execution_count": 11,
   "metadata": {},
   "outputs": [],
   "source": [
    "df1 = df1.sample(0.001, 42)\n",
    "data_sampled = df1"
   ]
  },
  {
   "cell_type": "markdown",
   "metadata": {},
   "source": [
    "## Clean up tags to include only most-used tags"
   ]
  },
  {
   "cell_type": "code",
   "execution_count": 12,
   "metadata": {},
   "outputs": [],
   "source": [
    "def cleanUpTags(tags):\n",
    "    tags = tags.split(\" \")\n",
    "    tags = [tag for tag in tags if tag in mostUsedTags]\n",
    "    return tags\n",
    "\n",
    "cleanUpTagsUDF = udf(cleanUpTags, ArrayType(StringType()))\n",
    "\n",
    "df1 = df1.withColumn(\"cleantags\",  cleanUpTagsUDF(col(\"tags\")))"
   ]
  },
  {
   "cell_type": "markdown",
   "metadata": {},
   "source": [
    "## Remove questions that do not include the top 50 tags"
   ]
  },
  {
   "cell_type": "code",
   "execution_count": 13,
   "metadata": {},
   "outputs": [],
   "source": [
    "def filterEmptyRows(tags):\n",
    "    return len(tags)\n",
    "\n",
    "filterEmptyRowsUDF = udf(filterEmptyRows, IntegerType())\n",
    "\n",
    "df1 = df1.filter(filterEmptyRowsUDF(col(\"cleantags\")) > 0)"
   ]
  },
  {
   "cell_type": "markdown",
   "metadata": {},
   "source": [
    "## Subject titles to TF-IDF"
   ]
  },
  {
   "cell_type": "code",
   "execution_count": 14,
   "metadata": {},
   "outputs": [],
   "source": [
    "tokenizer = Tokenizer(inputCol=\"Title\", outputCol=\"transformed_Title\")\n",
    "wordsData = tokenizer.transform(df1)\n",
    "\n",
    "hashingTF = HashingTF(inputCol=\"transformed_Title\", outputCol=\"rawFeatures\")\n",
    "featurizedData = hashingTF.transform(wordsData)\n",
    "\n",
    "idf = IDF(inputCol=\"rawFeatures\", outputCol=\"features\")\n",
    "idfModel = idf.fit(featurizedData)\n",
    "df1 = idfModel.transform(featurizedData)"
   ]
  },
  {
   "cell_type": "markdown",
   "metadata": {},
   "source": [
    "## Add 0/1 column for each tag"
   ]
  },
  {
   "cell_type": "code",
   "execution_count": 15,
   "metadata": {},
   "outputs": [
    {
     "name": "stdout",
     "output_type": "stream",
     "text": [
      "+--------------------+---+\n",
      "|           cleantags| c#|\n",
      "+--------------------+---+\n",
      "|                [c#]|  1|\n",
      "|                [c#]|  1|\n",
      "|     [php, facebook]|  0|\n",
      "|           [android]|  0|\n",
      "|                [c#]|  1|\n",
      "|               [c++]|  0|\n",
      "|            [python]|  0|\n",
      "|     [java, android]|  0|\n",
      "|                [c#]|  1|\n",
      "|        [php, mysql]|  0|\n",
      "|[java, android, e...|  0|\n",
      "|       [objective-c]|  0|\n",
      "|        [php, mysql]|  0|\n",
      "|[ruby-on-rails, r...|  0|\n",
      "|               [c++]|  0|\n",
      "|           [android]|  0|\n",
      "|           [android]|  0|\n",
      "|               [ios]|  0|\n",
      "|           [c#, sql]|  1|\n",
      "|           [android]|  0|\n",
      "+--------------------+---+\n",
      "only showing top 20 rows\n",
      "\n"
     ]
    }
   ],
   "source": [
    "for tag in mostUsedTags:\n",
    "    df1 = df1.withColumn(tag, (array_contains(col(\"cleantags\"), tag)).cast('integer'))\n",
    "\n",
    "df1.select(\"cleantags\", \"c#\").show()"
   ]
  },
  {
   "cell_type": "markdown",
   "metadata": {},
   "source": [
    "## Split data to train and test sets"
   ]
  },
  {
   "cell_type": "code",
   "execution_count": 16,
   "metadata": {},
   "outputs": [],
   "source": [
    "train_data, test_data = df1.randomSplit([.7,.3],seed=1234)"
   ]
  },
  {
   "cell_type": "markdown",
   "metadata": {},
   "source": [
    "# Train models"
   ]
  },
  {
   "cell_type": "markdown",
   "metadata": {},
   "source": [
    "### Handling class imbalance using undersampling method"
   ]
  },
  {
   "cell_type": "code",
   "execution_count": 17,
   "metadata": {},
   "outputs": [],
   "source": [
    "def underSample(training_data, etag):\n",
    "    major_df = training_data.filter(col(etag) == 0)\n",
    "    minor_df = training_data.filter(col(etag) == 1)\n",
    "    ratio = int(major_df.count()/minor_df.count())\n",
    "    \n",
    "    sampled_majority_df = major_df.sample(False, 1/ratio)\n",
    "    train_data = sampled_majority_df.unionAll(minor_df)\n",
    "    \n",
    "    return train_data"
   ]
  },
  {
   "cell_type": "markdown",
   "metadata": {},
   "source": [
    "<h3> Handling class imbalance with assigning class weights (higher weight to minority class) "
   ]
  },
  {
   "cell_type": "code",
   "execution_count": 18,
   "metadata": {},
   "outputs": [],
   "source": [
    "def classWeight(training_data, etag):\n",
    "    balancingRatio = training_data.filter(col(etag) == 1).count() / training_data.count()\n",
    "    calculateWeights = udf(lambda x: 1 * balancingRatio if x == 0 else (1 * (1.0 - balancingRatio)), DoubleType())\n",
    "    \n",
    "    training_data = training_data.withColumn(\"classWeightCol\", calculateWeights(col(etag)))\n",
    "    \n",
    "    return training_data\n",
    "\n",
    "def trainDTWithUndersampling(training_data, etag):\n",
    "    \n",
    "    # training_data = underSample(training_data, etag) #Commented for now\n",
    "    training_data = classWeight(training_data, etag) #Can be commented for speedup\n",
    "\n",
    "    model = DecisionTreeClassifier(featuresCol=\"features\", labelCol=etag, maxDepth=4, impurity=\"gini\", weightCol=\"classWeightCol\").fit(training_data)\n",
    "\n",
    "    # Using model without assigning classweight\n",
    "    # model = DecisionTreeClassifier(featuresCol=\"features\", labelCol=etag, maxDepth=4, impurity=\"gini\").fit(training_data)\n",
    "    pred = model.transform(test_data)\n",
    "    \n",
    "    tp = pred.filter((col(etag) == 1) & (col(\"prediction\") == 1)).count()\n",
    "    fp = pred.filter((col(etag) == 0) & (col(\"prediction\") == 1)).count()\n",
    "    fn = pred.filter((col(etag) == 1) & (col(\"prediction\") == 0)).count()\n",
    "    \n",
    "    if tp + fp == 0:\n",
    "        precision = 0\n",
    "    else:  \n",
    "        precision = tp / (tp + fp)\n",
    "    if tp + fn == 0:\n",
    "        recall = 0\n",
    "    else:  \n",
    "        recall = tp / (tp + fp)\n",
    "    if precision + recall == 0:\n",
    "        f1 = 0\n",
    "    else:  \n",
    "        f1 = 2 * (precision / (precision + recall))\n",
    "\n",
    "    return model, pred, precision * 100, recall * 100, f1\n",
    "\n",
    "def trainDTWithoutUndersampling(training_data, etag):\n",
    "    \n",
    "    # training_data = underSample(training_data, etag) #Commented for now\n",
    "    training_data = classWeight(training_data, etag) #Can be commented for speedup\n",
    "\n",
    "    model = DecisionTreeClassifier(featuresCol=\"features\", labelCol=etag, maxDepth=4, impurity=\"gini\").fit(training_data)\n",
    "    pred = model.transform(test_data)\n",
    "    \n",
    "    tp = pred.filter((col(etag) == 1) & (col(\"prediction\") == 1)).count()\n",
    "    fp = pred.filter((col(etag) == 0) & (col(\"prediction\") == 1)).count()\n",
    "    fn = pred.filter((col(etag) == 1) & (col(\"prediction\") == 0)).count()\n",
    "    \n",
    "    if tp + fp == 0:\n",
    "        precision = 0\n",
    "    else:  \n",
    "        precision = tp / (tp + fp)\n",
    "    if tp + fn == 0:\n",
    "        recall = 0\n",
    "    else:  \n",
    "        recall = tp / (tp + fp)\n",
    "    if precision + recall == 0:\n",
    "        f1 = 0\n",
    "    else:  \n",
    "        f1 = 2 * (precision / (precision + recall))\n",
    "\n",
    "    return model, pred, precision * 100, recall * 100, f1\n",
    "\n",
    "def trainLRWithUndersampling(training_data, etag):\n",
    "    \n",
    "    # training_data = underSample(training_data, etag) #Commented for now\n",
    "    training_data = classWeight(training_data, etag) #Can be commented for speedup\n",
    "    model = LogisticRegression(featuresCol=\"features\", labelCol=etag, maxIter=100, weightCol=\"classWeightCol\").fit(training_data)\n",
    "\n",
    "    # Using model without assigning classweight\n",
    "    # model = LogisticRegression(featuresCol=\"features\", labelCol=etag, maxIter=100).fit(training_data)\n",
    "    pred = model.transform(test_data)\n",
    "    \n",
    "    tp = pred.filter((col(etag) == 1) & (col(\"prediction\") == 1)).count()\n",
    "    fp = pred.filter((col(etag) == 0) & (col(\"prediction\") == 1)).count()\n",
    "    fn = pred.filter((col(etag) == 1) & (col(\"prediction\") == 0)).count()\n",
    "    \n",
    "    if tp + fp == 0:\n",
    "        precision = 0\n",
    "    else:  \n",
    "        precision = tp / (tp + fp)\n",
    "    if tp + fn == 0:\n",
    "        recall = 0\n",
    "    else:  \n",
    "        recall = tp / (tp + fp)\n",
    "    if precision + recall == 0:\n",
    "        f1 = 0\n",
    "    else:  \n",
    "        f1 = 2 * (precision / (precision + recall))\n",
    "    \n",
    "    return model, pred, precision * 100, recall * 100, f1\n",
    "\n",
    "def trainLRWithoutUndersampling(training_data, etag):\n",
    "    \n",
    "    # training_data = underSample(training_data, etag) #Commented for now\n",
    "    model = LogisticRegression(featuresCol=\"features\", labelCol=etag, maxIter=100).fit(training_data)\n",
    "    pred = model.transform(test_data)\n",
    "    \n",
    "    tp = pred.filter((col(etag) == 1) & (col(\"prediction\") == 1)).count()\n",
    "    fp = pred.filter((col(etag) == 0) & (col(\"prediction\") == 1)).count()\n",
    "    fn = pred.filter((col(etag) == 1) & (col(\"prediction\") == 0)).count()\n",
    "    \n",
    "    if tp + fp == 0:\n",
    "        precision = 0\n",
    "    else:  \n",
    "        precision = tp / (tp + fp)\n",
    "    if tp + fn == 0:\n",
    "        recall = 0\n",
    "    else:  \n",
    "        recall = tp / (tp + fp)\n",
    "    if precision + recall == 0:\n",
    "        f1 = 0\n",
    "    else:  \n",
    "        f1 = 2 * (precision / (precision + recall))\n",
    "    \n",
    "    return model, pred, precision * 100, recall * 100, f1"
   ]
  },
  {
   "cell_type": "markdown",
   "metadata": {},
   "source": [
    "## Train models for each tag and obtain precision, recall, and f-measure"
   ]
  },
  {
   "cell_type": "markdown",
   "metadata": {},
   "source": [
    "### Train Decision Tree Models"
   ]
  },
  {
   "cell_type": "code",
   "execution_count": 19,
   "metadata": {},
   "outputs": [],
   "source": [
    "dtcs = defaultdict()\n",
    "preds = defaultdict()\n",
    "precisions = defaultdict()\n",
    "recalls = defaultdict()\n",
    "fmeasures = defaultdict()"
   ]
  },
  {
   "cell_type": "code",
   "execution_count": 20,
   "metadata": {},
   "outputs": [
    {
     "name": "stdout",
     "output_type": "stream",
     "text": [
      "c#\n",
      "java\n",
      "php\n",
      "javascript\n",
      "android\n",
      "jquery\n",
      "c++\n",
      "python\n",
      "iphone\n",
      "aspnet\n",
      "mysql\n",
      "html\n",
      "net\n",
      "ios\n",
      "objective-c\n",
      "sql\n",
      "css\n",
      "linux\n",
      "ruby-on-rails\n",
      "windows\n",
      "c\n",
      "sql-server\n",
      "ruby\n",
      "wpf\n",
      "xml\n",
      "ajax\n",
      "database\n",
      "regex\n",
      "windows-7\n",
      "aspnet-mvc\n",
      "xcode\n",
      "django\n",
      "osx\n",
      "arrays\n",
      "vbnet\n",
      "eclipse\n",
      "json\n",
      "facebook\n",
      "ruby-on-rails-3\n",
      "ubuntu\n",
      "performance\n",
      "networking\n",
      "string\n",
      "multithreading\n",
      "winforms\n",
      "security\n",
      "aspnet-mvc-3\n",
      "visual-studio-2010\n",
      "bash\n",
      "homework\n"
     ]
    }
   ],
   "source": [
    "\n",
    "\n",
    "for tag in mostUsedTags:\n",
    "    if tag not in dtcs:\n",
    "        try:\n",
    "            dtcs[tag], preds[tag], precisions[tag], recalls[tag], fmeasures[tag] = trainDTWithUndersampling(train_data, tag)\n",
    "            print(tag)\n",
    "        except:\n",
    "            print('Passed: ' + str(tag))\n",
    "\n",
    "\n",
    "for tag in mostUsedTags:\n",
    "    if tag not in dtcs:\n",
    "        try:\n",
    "            dtcs[tag], preds[tag], precisions[tag], recalls[tag], fmeasures[tag] = trainDTWithoutUndersampling(train_data, tag)\n",
    "            print(tag)\n",
    "        except:\n",
    "            print('Passed: ' + str(tag))\n"
   ]
  },
  {
   "cell_type": "markdown",
   "metadata": {},
   "source": [
    "### Train Logistic Regression Models"
   ]
  },
  {
   "cell_type": "code",
   "execution_count": 21,
   "metadata": {},
   "outputs": [],
   "source": [
    "dtcs1 = defaultdict()\n",
    "preds1 = defaultdict()\n",
    "precisions1 = defaultdict()\n",
    "recalls1 = defaultdict()\n",
    "fmeasures1 = defaultdict()"
   ]
  },
  {
   "cell_type": "code",
   "execution_count": 22,
   "metadata": {},
   "outputs": [
    {
     "name": "stdout",
     "output_type": "stream",
     "text": [
      "c#\n",
      "java\n",
      "php\n",
      "javascript\n",
      "android\n",
      "jquery\n",
      "c++\n",
      "python\n",
      "iphone\n",
      "Passed: aspnet\n",
      "mysql\n",
      "html\n",
      "Passed: net\n",
      "ios\n",
      "objective-c\n",
      "sql\n",
      "css\n",
      "linux\n",
      "ruby-on-rails\n",
      "windows\n",
      "c\n",
      "sql-server\n",
      "ruby\n",
      "wpf\n",
      "xml\n",
      "ajax\n",
      "database\n",
      "regex\n",
      "windows-7\n",
      "Passed: aspnet-mvc\n",
      "xcode\n",
      "django\n",
      "osx\n",
      "arrays\n",
      "Passed: vbnet\n",
      "eclipse\n",
      "json\n",
      "facebook\n",
      "ruby-on-rails-3\n",
      "ubuntu\n",
      "performance\n",
      "networking\n",
      "string\n",
      "multithreading\n",
      "winforms\n",
      "security\n",
      "Passed: aspnet-mvc-3\n",
      "visual-studio-2010\n",
      "bash\n",
      "homework\n",
      "aspnet\n",
      "net\n",
      "aspnet-mvc\n",
      "vbnet\n",
      "aspnet-mvc-3\n"
     ]
    }
   ],
   "source": [
    "for tag in mostUsedTags:\n",
    "    if tag not in dtcs1:\n",
    "        try:\n",
    "            dtcs1[tag], preds1[tag], precisions1[tag], recalls1[tag], fmeasures1[tag] = trainLRWithUndersampling(train_data, tag)\n",
    "            print(tag)\n",
    "        except:\n",
    "            print('Passed: ' + str(tag))\n",
    "\n",
    "for tag in mostUsedTags:\n",
    "    if tag not in dtcs1:\n",
    "        try:\n",
    "            dtcs1[tag], preds1[tag], precisions1[tag], recalls1[tag], fmeasures1[tag] = trainLRWithoutUndersampling(train_data, tag)\n",
    "            print(tag)\n",
    "        except:\n",
    "            print('Passed: ' + str(tag))"
   ]
  },
  {
   "cell_type": "code",
   "execution_count": 23,
   "metadata": {},
   "outputs": [
    {
     "name": "stdout",
     "output_type": "stream",
     "text": [
      "defaultdict(None, {'c#': 94.11764705882352, 'java': 100.0, 'php': 65.51724137931035, 'javascript': 52.307692307692314, 'android': 100.0, 'jquery': 79.66101694915254, 'c++': 89.47368421052632, 'python': 29.166666666666668, 'iphone': 65.21739130434783, 'aspnet': 0, 'mysql': 40.0, 'html': 47.22222222222222, 'net': 0, 'ios': 25.71428571428571, 'objective-c': 3.7037037037037033, 'sql': 36.11111111111111, 'css': 61.904761904761905, 'linux': 23.404255319148938, 'ruby-on-rails': 15.686274509803921, 'windows': 16.216216216216218, 'c': 19.35483870967742, 'sql-server': 27.500000000000004, 'ruby': 45.0, 'wpf': 88.88888888888889, 'xml': 41.37931034482759, 'ajax': 10.256410256410255, 'database': 10.81081081081081, 'regex': 93.33333333333333, 'windows-7': 10.714285714285714, 'aspnet-mvc': 0, 'xcode': 6.0606060606060606, 'django': 30.76923076923077, 'osx': 66.66666666666666, 'arrays': 14.583333333333334, 'vbnet': 0, 'eclipse': 37.5, 'json': 17.02127659574468, 'facebook': 100.0, 'ruby-on-rails-3': 18.75, 'ubuntu': 5.511811023622047, 'performance': 41.66666666666667, 'networking': 20.0, 'string': 5.681818181818182, 'multithreading': 16.216216216216218, 'winforms': 25.0, 'security': 0.0, 'aspnet-mvc-3': 0, 'visual-studio-2010': 75.0, 'bash': 0.5102040816326531, 'homework': 4.3478260869565215})\n",
      "defaultdict(None, {'c#': 94.11764705882352, 'java': 100.0, 'php': 65.51724137931035, 'javascript': 52.307692307692314, 'android': 100.0, 'jquery': 79.66101694915254, 'c++': 89.47368421052632, 'python': 29.166666666666668, 'iphone': 65.21739130434783, 'aspnet': 0, 'mysql': 40.0, 'html': 47.22222222222222, 'net': 0, 'ios': 25.71428571428571, 'objective-c': 3.7037037037037033, 'sql': 36.11111111111111, 'css': 61.904761904761905, 'linux': 23.404255319148938, 'ruby-on-rails': 15.686274509803921, 'windows': 16.216216216216218, 'c': 19.35483870967742, 'sql-server': 27.500000000000004, 'ruby': 45.0, 'wpf': 88.88888888888889, 'xml': 41.37931034482759, 'ajax': 10.256410256410255, 'database': 10.81081081081081, 'regex': 93.33333333333333, 'windows-7': 10.714285714285714, 'aspnet-mvc': 0, 'xcode': 6.0606060606060606, 'django': 30.76923076923077, 'osx': 66.66666666666666, 'arrays': 14.583333333333334, 'vbnet': 0, 'eclipse': 37.5, 'json': 17.02127659574468, 'facebook': 100.0, 'ruby-on-rails-3': 18.75, 'ubuntu': 5.511811023622047, 'performance': 41.66666666666667, 'networking': 20.0, 'string': 5.681818181818182, 'multithreading': 16.216216216216218, 'winforms': 25.0, 'security': 0.0, 'aspnet-mvc-3': 0, 'visual-studio-2010': 75.0, 'bash': 0.5102040816326531, 'homework': 4.3478260869565215})\n",
      "defaultdict(None, {'c#': 1.0, 'java': 1.0, 'php': 1.0, 'javascript': 1.0, 'android': 1.0, 'jquery': 1.0, 'c++': 1.0, 'python': 1.0, 'iphone': 1.0, 'aspnet': 0, 'mysql': 1.0, 'html': 1.0, 'net': 0, 'ios': 1.0, 'objective-c': 1.0, 'sql': 1.0, 'css': 1.0, 'linux': 1.0, 'ruby-on-rails': 1.0, 'windows': 1.0, 'c': 1.0, 'sql-server': 1.0, 'ruby': 1.0, 'wpf': 1.0, 'xml': 1.0, 'ajax': 1.0, 'database': 1.0, 'regex': 1.0, 'windows-7': 1.0, 'aspnet-mvc': 0, 'xcode': 1.0, 'django': 1.0, 'osx': 1.0, 'arrays': 1.0, 'vbnet': 0, 'eclipse': 1.0, 'json': 1.0, 'facebook': 1.0, 'ruby-on-rails-3': 1.0, 'ubuntu': 1.0, 'performance': 1.0, 'networking': 1.0, 'string': 1.0, 'multithreading': 1.0, 'winforms': 1.0, 'security': 0, 'aspnet-mvc-3': 0, 'visual-studio-2010': 1.0, 'bash': 1.0, 'homework': 1.0})\n"
     ]
    }
   ],
   "source": [
    "print(precisions)\n",
    "print(recalls)\n",
    "print(fmeasures)"
   ]
  },
  {
   "cell_type": "markdown",
   "metadata": {},
   "source": [
    "# Word2Vec Title"
   ]
  },
  {
   "cell_type": "markdown",
   "metadata": {},
   "source": [
    "Now we will be training the same models. This time however we will be using Word2Vec for the featurization of the titles. \n",
    "\n",
    "We first start by defining some constants and some utility functions."
   ]
  },
  {
   "cell_type": "code",
   "execution_count": 24,
   "metadata": {},
   "outputs": [],
   "source": [
    "num_labels = 50\n",
    "classifier_array_title = []\n",
    "\n",
    "def column_splitter(r):\n",
    "    if not r.Tags:\n",
    "        label_array = None\n",
    "    else:\n",
    "        tags = r.Tags.split(' ')\n",
    "        label_array = []\n",
    "        for t in mostUsedTags_validation:\n",
    "            if t in tags:\n",
    "                label_array.append(1)\n",
    "            else:\n",
    "                label_array.append(0)\n",
    "        if 1 not in label_array:\n",
    "            label_array = None\n",
    "    \n",
    "    return (r.Id, r.Title, r.Tags, r.transformed_Title, label_array)\n",
    "\n",
    "\n",
    "def init_spark_2():\n",
    "    spark = SparkSession \\\n",
    "        .builder.appName(\"W2V with Title\").config(\"spark.sql.broadcastTimeout\", \"72000\").config('spark.shuffle.service.enabled', 'TRUE').config(\"spark.debug.maxToStringFields\" , \"100\").config(\"spark.executor.heartbeatInterval\", \"14400\").getOrCreate()\n",
    "        \n",
    "    return spark"
   ]
  },
  {
   "cell_type": "markdown",
   "metadata": {},
   "source": [
    "We then can conveniently take a previously processed dataframe with the sample set. We then need to tokenize the title."
   ]
  },
  {
   "cell_type": "code",
   "execution_count": 25,
   "metadata": {},
   "outputs": [],
   "source": [
    "spark = init_spark_2()\n",
    "\n",
    "w2v_data_title = data_sampled\n",
    "\n",
    "wordsData = tokenizer.transform(w2v_data_title)\n"
   ]
  },
  {
   "cell_type": "markdown",
   "metadata": {},
   "source": [
    "## Data Pre-processing"
   ]
  },
  {
   "cell_type": "markdown",
   "metadata": {},
   "source": [
    "### Current State of Dataframe\n"
   ]
  },
  {
   "cell_type": "code",
   "execution_count": 26,
   "metadata": {},
   "outputs": [
    {
     "data": {
      "text/plain": [
       "[Row(Id='7283', Title='C# timers for moving objects', Tags='c# animation timer movement ticker', transformed_Title=['c#', 'timers', 'for', 'moving', 'objects'])]"
      ]
     },
     "execution_count": 26,
     "metadata": {},
     "output_type": "execute_result"
    }
   ],
   "source": [
    "wordsData.take(1)    "
   ]
  },
  {
   "cell_type": "markdown",
   "metadata": {},
   "source": [
    "We want to turn all arrays of tags into a binary array of length 50 where every index is a 1 if it's corressponding tag is in this row, 0 otherwise\n",
    "\n",
    "We also rename the columns accordingly and then drop all rows that do not hold any tags"
   ]
  },
  {
   "cell_type": "code",
   "execution_count": 27,
   "metadata": {},
   "outputs": [
    {
     "data": {
      "text/plain": [
       "[Row(Id='7283', Title='C# timers for moving objects', Tags='c# animation timer movement ticker', transformed_Title=['c#', 'timers', 'for', 'moving', 'objects'], tag_array=[1, 0, 0, 0, 0, 0, 0, 0, 0, 0, 0, 0, 0, 0, 0, 0, 0, 0, 0, 0, 0, 0, 0, 0, 0, 0, 0, 0, 0, 0, 0, 0, 0, 0, 0, 0, 0, 0, 0, 0, 0, 0, 0, 0, 0, 0, 0, 0, 0, 0])]"
      ]
     },
     "execution_count": 27,
     "metadata": {},
     "output_type": "execute_result"
    }
   ],
   "source": [
    "wordsData = wordsData.rdd.map(lambda r: column_splitter(r))\n",
    "wordsData = wordsData.toDF(['Id', 'Title', 'Tags', 'transformed_Title', 'tag_array'])\n",
    "wordsData = wordsData.dropna()\n",
    "\n",
    "wordsData.take(1)    "
   ]
  },
  {
   "cell_type": "markdown",
   "metadata": {},
   "source": [
    "### Data Featurization, Sampling and Structure"
   ]
  },
  {
   "cell_type": "markdown",
   "metadata": {},
   "source": [
    "We split the sampled data into a test and training set."
   ]
  },
  {
   "cell_type": "code",
   "execution_count": 28,
   "metadata": {},
   "outputs": [],
   "source": [
    "train_df_pre_title, test_df_pre_title = wordsData.randomSplit([.7,.3],seed=1234)"
   ]
  },
  {
   "cell_type": "markdown",
   "metadata": {},
   "source": [
    "We then featurize the Title column using W2V and fit model with the whole dataset.\n",
    "\n",
    "We finish off this section by transforming the test and train datasets with the W2V model"
   ]
  },
  {
   "cell_type": "code",
   "execution_count": 29,
   "metadata": {},
   "outputs": [],
   "source": [
    "word2Vec = Word2Vec(inputCol=\"transformed_Title\", outputCol=\"features\", vectorSize=100)\n",
    "fitted_word2Vec = word2Vec.fit(wordsData)\n",
    "\n",
    "train_df_pre_title = fitted_word2Vec.transform(train_df_pre_title)\n",
    "test_df_pre_title = fitted_word2Vec.transform(test_df_pre_title)"
   ]
  },
  {
   "cell_type": "code",
   "execution_count": 30,
   "metadata": {},
   "outputs": [
    {
     "data": {
      "text/plain": [
       "[Row(Id='1003396', Title='Show values of custom field created with ACF on a page', Tags='php custom-field', transformed_Title=['show', 'values', 'of', 'custom', 'field', 'created', 'with', 'acf', 'on', 'a', 'page'], tag_array=[0, 0, 1, 0, 0, 0, 0, 0, 0, 0, 0, 0, 0, 0, 0, 0, 0, 0, 0, 0, 0, 0, 0, 0, 0, 0, 0, 0, 0, 0, 0, 0, 0, 0, 0, 0, 0, 0, 0, 0, 0, 0, 0, 0, 0, 0, 0, 0, 0, 0], features=DenseVector([-0.0159, -0.03, 0.0041, 0.0395, 0.011, -0.0024, 0.0114, -0.0348, -0.008, 0.0125, 0.0083, 0.0396, -0.0198, -0.0138, -0.0111, 0.0204, 0.0219, -0.0007, 0.006, -0.002, 0.0199, 0.0065, 0.0085, 0.0183, -0.0263, 0.0298, -0.0235, 0.0083, -0.013, 0.018, -0.011, -0.0002, -0.0402, -0.0161, 0.0101, 0.0049, -0.0173, 0.0193, 0.0051, 0.0373, 0.0068, -0.0239, 0.0117, -0.0406, -0.0057, 0.0171, 0.0039, 0.0142, 0.0118, -0.0001, -0.0052, 0.0245, -0.0292, 0.0108, 0.0003, -0.0228, 0.0128, -0.0151, -0.0392, 0.0311, 0.0331, -0.0059, -0.0076, -0.0302, -0.0036, 0.0303, -0.0122, -0.0427, 0.0227, -0.0152, 0.009, -0.0302, -0.0078, 0.0136, -0.0121, 0.0319, 0.0153, -0.0255, -0.0071, -0.0067, 0.0023, -0.0182, 0.0222, -0.0008, -0.0111, -0.0083, 0.0011, 0.0201, -0.0203, -0.0049, -0.0342, 0.0103, -0.0168, -0.0141, -0.0105, 0.0061, -0.0246, 0.0102, -0.0051, -0.0531]))]"
      ]
     },
     "execution_count": 30,
     "metadata": {},
     "output_type": "execute_result"
    }
   ],
   "source": [
    "spark.catalog.clearCache()\n",
    "train_df_pre_title.take(1)"
   ]
  },
  {
   "cell_type": "markdown",
   "metadata": {},
   "source": [
    "### Seperate Label Array into Columns"
   ]
  },
  {
   "cell_type": "markdown",
   "metadata": {},
   "source": [
    "We want there to be a column for each tag so that we can train each classifier based on the target of that models respective tag.\n",
    "\n",
    "We start off by performing the necessary actions on first the train data set."
   ]
  },
  {
   "cell_type": "code",
   "execution_count": 31,
   "metadata": {},
   "outputs": [
    {
     "data": {
      "text/plain": [
       "[Row(Id='1003396', Title='Show values of custom field created with ACF on a page', Tags='php custom-field', transformed_Title=['show', 'values', 'of', 'custom', 'field', 'created', 'with', 'acf', 'on', 'a', 'page'], features=DenseVector([-0.0159, -0.03, 0.0041, 0.0395, 0.011, -0.0024, 0.0114, -0.0348, -0.008, 0.0125, 0.0083, 0.0396, -0.0198, -0.0138, -0.0111, 0.0204, 0.0219, -0.0007, 0.006, -0.002, 0.0199, 0.0065, 0.0085, 0.0183, -0.0263, 0.0298, -0.0235, 0.0083, -0.013, 0.018, -0.011, -0.0002, -0.0402, -0.0161, 0.0101, 0.0049, -0.0173, 0.0193, 0.0051, 0.0373, 0.0068, -0.0239, 0.0117, -0.0406, -0.0057, 0.0171, 0.0039, 0.0142, 0.0118, -0.0001, -0.0052, 0.0245, -0.0292, 0.0108, 0.0003, -0.0228, 0.0128, -0.0151, -0.0392, 0.0311, 0.0331, -0.0059, -0.0076, -0.0302, -0.0036, 0.0303, -0.0122, -0.0427, 0.0227, -0.0152, 0.009, -0.0302, -0.0078, 0.0136, -0.0121, 0.0319, 0.0153, -0.0255, -0.0071, -0.0067, 0.0023, -0.0182, 0.0222, -0.0008, -0.0111, -0.0083, 0.0011, 0.0201, -0.0203, -0.0049, -0.0342, 0.0103, -0.0168, -0.0141, -0.0105, 0.0061, -0.0246, 0.0102, -0.0051, -0.0531]), c#=0, java=0, php=1, javascript=0, android=0, jquery=0, c++=0, python=0, iphone=0, aspnet=0, mysql=0, html=0, net=0, ios=0, objective-c=0, sql=0, css=0, linux=0, ruby-on-rails=0, windows=0, c=0, sql-server=0, ruby=0, wpf=0, xml=0, ajax=0, database=0, regex=0, windows-7=0, aspnet-mvc=0, xcode=0, django=0, osx=0, arrays=0, vbnet=0, eclipse=0, json=0, facebook=0, ruby-on-rails-3=0, ubuntu=0, performance=0, networking=0, string=0, multithreading=0, winforms=0, security=0, aspnet-mvc-3=0, visual-studio-2010=0, bash=0, homework=0)]"
      ]
     },
     "execution_count": 31,
     "metadata": {},
     "output_type": "execute_result"
    }
   ],
   "source": [
    "train_df_title = train_df_pre_title.select(['Id']+['Title']+['Tags']+['transformed_Title']+['features']+[expr('tag_array[' + str(x) + ']') for x in range(0, num_labels)])\n",
    "\n",
    "for i in range(0, num_labels): \n",
    "    if '.' in mostUsedTags[i]:\n",
    "        mostUsedTags[i] = mostUsedTags[i].replace('.', '')\n",
    "\n",
    "colnames = ['Id']+['Title']+['Tags']+['transformed_Title']+['features']+ [str(mostUsedTags[i]) for i in range(0, num_labels)] \n",
    "train_df_title = train_df_title.toDF(*colnames)\n",
    "\n",
    "train_data = train_df_title\n",
    "\n",
    "train_data.take(1)"
   ]
  },
  {
   "cell_type": "markdown",
   "metadata": {},
   "source": [
    "And then on the test data set."
   ]
  },
  {
   "cell_type": "code",
   "execution_count": 32,
   "metadata": {},
   "outputs": [
    {
     "data": {
      "text/plain": [
       "[Row(Id='1000084', Title='Java Data Structures Reference', Tags='java data-structures time-complexity summary', transformed_Title=['java', 'data', 'structures', 'reference'], features=DenseVector([-0.0102, -0.0158, 0.0016, 0.0213, 0.0068, -0.0033, 0.0048, -0.0223, -0.0071, 0.0031, 0.0047, 0.0218, -0.0053, -0.0054, -0.0116, 0.009, 0.0144, -0.0045, 0.0035, 0.0011, 0.0148, 0.0046, 0.0085, 0.0145, -0.0203, 0.0218, -0.0079, 0.0042, -0.0043, 0.0106, -0.0112, 0.0038, -0.0231, -0.0087, 0.0066, -0.0009, -0.0117, 0.006, 0.0019, 0.0202, 0.0032, -0.0183, 0.0065, -0.0296, -0.0107, 0.0152, -0.0018, 0.0085, 0.0037, -0.0035, 0.0, 0.0115, -0.0149, 0.0041, 0.0031, -0.0148, 0.0057, -0.0054, -0.0236, 0.0196, 0.0148, -0.0013, -0.0003, -0.018, -0.0005, 0.0151, -0.0063, -0.0187, 0.0165, -0.0118, 0.0067, -0.0168, 0.002, 0.0075, -0.0032, 0.0189, 0.006, -0.0122, -0.0059, -0.0097, 0.004, -0.0104, 0.0213, -0.0016, -0.0065, -0.0083, 0.0031, 0.0111, -0.0093, -0.0025, -0.0171, 0.0091, -0.0111, -0.0052, -0.0083, -0.0048, -0.019, 0.0042, -0.005, -0.0282]), c#=0, java=1, php=0, javascript=0, android=0, jquery=0, c++=0, python=0, iphone=0, aspnet=0, mysql=0, html=0, net=0, ios=0, objective-c=0, sql=0, css=0, linux=0, ruby-on-rails=0, windows=0, c=0, sql-server=0, ruby=0, wpf=0, xml=0, ajax=0, database=0, regex=0, windows-7=0, aspnet-mvc=0, xcode=0, django=0, osx=0, arrays=0, vbnet=0, eclipse=0, json=0, facebook=0, ruby-on-rails-3=0, ubuntu=0, performance=0, networking=0, string=0, multithreading=0, winforms=0, security=0, aspnet-mvc-3=0, visual-studio-2010=0, bash=0, homework=0)]"
      ]
     },
     "execution_count": 32,
     "metadata": {},
     "output_type": "execute_result"
    }
   ],
   "source": [
    "test_df_pre_title = test_df_pre_title.select(['Id']+['Title']+['Tags']+['transformed_Title']+['features']+[expr('tag_array[' + str(x) + ']') for x in range(0, num_labels)])\n",
    "\n",
    "for i in range(0, num_labels): \n",
    "    if '.' in mostUsedTags[i]:\n",
    "        mostUsedTags[i] = mostUsedTags[i].replace('.', '')\n",
    "\n",
    "colnames = ['Id']+['Title']+['Tags']+['transformed_Title']+['features']+ [str(mostUsedTags[i]) for i in range(0, num_labels)] \n",
    "test_df_pre_title = test_df_pre_title.toDF(*colnames)\n",
    "\n",
    "test_data = test_df_pre_title\n",
    "\n",
    "test_data.take(1)"
   ]
  },
  {
   "cell_type": "markdown",
   "metadata": {},
   "source": [
    "## Train Models"
   ]
  },
  {
   "cell_type": "markdown",
   "metadata": {},
   "source": [
    "We create dictionaries for the models and their respective metrics. This is in case the for loops that train the models ever crash. If they crash we will still have the dictionaries and the for loops can save time by only training the models and getting their predictions if it hasn't been done so already."
   ]
  },
  {
   "cell_type": "code",
   "execution_count": 33,
   "metadata": {},
   "outputs": [],
   "source": [
    "w2v_lrs = defaultdict()\n",
    "w2v_lrs_preds = defaultdict()\n",
    "w2v_lrs_precisions = defaultdict()\n",
    "w2v_lrs_recalls = defaultdict()\n",
    "w2v_lrs_fmeasures = defaultdict()\n",
    "\n",
    "w2v_dts = defaultdict()\n",
    "w2v_dts_preds = defaultdict()\n",
    "w2v_dts_precisions = defaultdict()\n",
    "w2v_dts_recalls = defaultdict()\n",
    "w2v_dts_fmeasures = defaultdict()"
   ]
  },
  {
   "cell_type": "markdown",
   "metadata": {},
   "source": [
    "We first train the Logistric Regression models. We run two loops, one with under sampling and one without. This is because under sampling can sometimes bring up errors so if a specific tag's model is not trained because of that it will be trained later on by the second loop"
   ]
  },
  {
   "cell_type": "code",
   "execution_count": 34,
   "metadata": {},
   "outputs": [
    {
     "name": "stdout",
     "output_type": "stream",
     "text": [
      "Trained: c#\n",
      "Trained: java\n",
      "Trained: php\n",
      "Trained: javascript\n",
      "Trained: android\n",
      "Trained: jquery\n",
      "Trained: c++\n",
      "Trained: python\n",
      "Trained: iphone\n",
      "Trained: aspnet\n",
      "Trained: mysql\n",
      "Trained: html\n",
      "Trained: net\n",
      "Trained: ios\n",
      "Trained: objective-c\n",
      "Trained: sql\n",
      "Trained: css\n",
      "Trained: linux\n",
      "Trained: ruby-on-rails\n",
      "Trained: windows\n",
      "Trained: c\n",
      "Trained: sql-server\n",
      "Trained: ruby\n",
      "Trained: wpf\n",
      "Trained: xml\n",
      "Trained: ajax\n",
      "Trained: database\n",
      "Trained: regex\n",
      "Trained: windows-7\n",
      "Trained: aspnet-mvc\n",
      "Trained: xcode\n",
      "Trained: django\n",
      "Trained: osx\n",
      "Trained: arrays\n",
      "Trained: vbnet\n",
      "Trained: eclipse\n",
      "Trained: json\n",
      "Trained: facebook\n",
      "Trained: ruby-on-rails-3\n",
      "Trained: ubuntu\n",
      "Trained: performance\n",
      "Trained: networking\n",
      "Trained: string\n",
      "Trained: multithreading\n",
      "Trained: winforms\n",
      "Trained: security\n",
      "Trained: aspnet-mvc-3\n",
      "Trained: visual-studio-2010\n",
      "Trained: bash\n",
      "Trained: homework\n"
     ]
    }
   ],
   "source": [
    "for tag in mostUsedTags:\n",
    "    if tag not in w2v_lrs:\n",
    "        try:\n",
    "            w2v_lrs[tag], w2v_lrs_preds[tag], w2v_lrs_precisions[tag], w2v_lrs_recalls[tag], w2v_lrs_fmeasures[tag] = trainLRWithUndersampling(train_data, tag) \n",
    "            print('Trained: ' + str(tag)) \n",
    "        except:\n",
    "            print('Passed: ' + str(tag))\n",
    "\n",
    "for tag in mostUsedTags:\n",
    "    if tag not in w2v_lrs:\n",
    "        try:\n",
    "            w2v_lrs[tag], w2v_lrs_preds[tag], w2v_lrs_precisions[tag], w2v_lrs_recalls[tag], w2v_lrs_fmeasures[tag] = trainLRWithoutUndersampling(train_data, tag) \n",
    "            print('Trained: ' + str(tag)) \n",
    "        except:\n",
    "            print('Passed: ' + str(tag))"
   ]
  },
  {
   "cell_type": "markdown",
   "metadata": {},
   "source": [
    "We do the same thing but this time with the Decision Trees."
   ]
  },
  {
   "cell_type": "code",
   "execution_count": 35,
   "metadata": {},
   "outputs": [
    {
     "name": "stdout",
     "output_type": "stream",
     "text": [
      "Trained: c#\n",
      "Trained: java\n",
      "Trained: php\n",
      "Trained: javascript\n",
      "Trained: android\n",
      "Trained: jquery\n",
      "Trained: c++\n",
      "Trained: python\n",
      "Trained: iphone\n",
      "Trained: aspnet\n",
      "Trained: mysql\n",
      "Trained: html\n",
      "Trained: net\n",
      "Trained: ios\n",
      "Trained: objective-c\n",
      "Trained: sql\n",
      "Trained: css\n",
      "Trained: linux\n",
      "Trained: ruby-on-rails\n",
      "Trained: windows\n",
      "Trained: c\n",
      "Trained: sql-server\n",
      "Trained: ruby\n",
      "Trained: wpf\n",
      "Trained: xml\n",
      "Trained: ajax\n",
      "Trained: database\n",
      "Trained: regex\n",
      "Trained: windows-7\n",
      "Trained: aspnet-mvc\n",
      "Trained: xcode\n",
      "Trained: django\n",
      "Trained: osx\n",
      "Trained: arrays\n",
      "Trained: vbnet\n",
      "Trained: eclipse\n",
      "Trained: json\n",
      "Trained: facebook\n",
      "Trained: ruby-on-rails-3\n",
      "Trained: ubuntu\n",
      "Trained: performance\n",
      "Trained: networking\n",
      "Trained: string\n",
      "Trained: multithreading\n",
      "Trained: winforms\n",
      "Trained: security\n",
      "Trained: aspnet-mvc-3\n",
      "Trained: visual-studio-2010\n",
      "Trained: bash\n",
      "Trained: homework\n"
     ]
    }
   ],
   "source": [
    "for tag in mostUsedTags:\n",
    "    if tag not in w2v_dts:\n",
    "        try:\n",
    "            w2v_dts[tag], w2v_dts_preds[tag], w2v_dts_precisions[tag], w2v_dts_recalls[tag], w2v_dts_fmeasures[tag] = trainDTWithUndersampling(train_data, tag)\n",
    "            print('Trained: ' + str(tag)) \n",
    "        except:\n",
    "            print('Passed: ' + str(tag))\n",
    "\n",
    "for tag in mostUsedTags:\n",
    "    if tag not in w2v_dts:\n",
    "        try:\n",
    "            w2v_dts[tag], w2v_dts_preds[tag], w2v_dts_precisions[tag], w2v_dts_recalls[tag], w2v_dts_fmeasures[tag] = trainDTWithoutUndersampling(train_data, tag)\n",
    "            print('Trained: ' + str(tag)) \n",
    "        except:\n",
    "            print('Passed: ' + str(tag))"
   ]
  },
  {
   "cell_type": "markdown",
   "metadata": {},
   "source": [
    "# Display Functions"
   ]
  },
  {
   "cell_type": "code",
   "execution_count": 37,
   "metadata": {},
   "outputs": [],
   "source": [
    "def results_to_plot_data(res):\n",
    "    array =[]\n",
    "    for tag in mostUsedTags:\n",
    "        try:\n",
    "            array.append(res[tag])\n",
    "        except:\n",
    "            array.append(0)\n",
    "    return array\n",
    "\n",
    "def display_precision():\n",
    "    plt.figure(figsize=[20, 10])\n",
    "    labels = mostUsedTags\n",
    "    x = np.arange(len(labels))  # the label locations\n",
    "    \n",
    "    data1 = results_to_plot_data(precisions)\n",
    "    data2 = results_to_plot_data(precisions1)\n",
    "    data3 = results_to_plot_data(w2v_lrs_precisions)\n",
    "    data4 = results_to_plot_data(w2v_dts_precisions)\n",
    "\n",
    "    plt.bar(x - 0.2, data1, 0.2, label = 'TF-IDF/Decistion Tree')\n",
    "    plt.bar(x - 0.1, data2, 0.2, label = 'TF-IDF/Logistic Regression')\n",
    "    plt.bar(x + 0.1, data3, 0.2, label = 'W2V/Decistion Tree')\n",
    "    plt.bar(x + 0.2, data4, 0.2, label = 'W2V/Logistic Regression')\n",
    "    plt.xticks(x, x)\n",
    "    plt.xlabel(\"Groups\")\n",
    "    plt.ylabel(\"Precision (%)\")\n",
    "    plt.title(\"Precision According to Model and Featurization Method\")\n",
    "    plt.legend()\n",
    "    plt.show()\n",
    "\n",
    "def display_recall():\n",
    "    plt.figure(figsize=[20, 10])\n",
    "    labels = mostUsedTags\n",
    "    x = np.arange(len(labels))  # the label locations\n",
    "    \n",
    "    data1 = results_to_plot_data(recalls)\n",
    "    data2 = results_to_plot_data(recalls1)\n",
    "    data3 = results_to_plot_data(w2v_lrs_recalls)\n",
    "    data4 = results_to_plot_data(w2v_dts_recalls)\n",
    "\n",
    "    plt.bar(x - 0.2, data1, 0.2, label = 'TF-IDF/Decistion Tree')\n",
    "    plt.bar(x - 0.1, data2, 0.2, label = 'TF-IDF/Logistic Regression')\n",
    "    plt.bar(x + 0.1, data3, 0.2, label = 'W2V/Decistion Tree')\n",
    "    plt.bar(x + 0.2, data4, 0.2, label = 'W2V/Logistic Regression')\n",
    "    plt.xticks(x, x)\n",
    "    plt.xlabel(\"Groups\")\n",
    "    plt.ylabel(\"Recall\")\n",
    "    plt.title(\"Recall According to Model and Featurization Method\")\n",
    "    plt.legend()\n",
    "    plt.show()\n",
    "\n",
    "def display_f1():\n",
    "    plt.figure(figsize=[20, 10])\n",
    "    labels = mostUsedTags\n",
    "    x = np.arange(len(labels))  # the label locations\n",
    "    \n",
    "    data1 = results_to_plot_data(fmeasures)\n",
    "    data2 = results_to_plot_data(fmeasures1)\n",
    "    data3 = results_to_plot_data(w2v_lrs_fmeasures)\n",
    "    data4 = results_to_plot_data(w2v_dts_fmeasures)\n",
    "\n",
    "    plt.bar(x - 0.2, data1, 0.2, label = 'TF-IDF/Decistion Tree')\n",
    "    plt.bar(x - 0.1, data2, 0.2, label = 'TF-IDF/Logistic Regression')\n",
    "    plt.bar(x + 0.1, data3, 0.2, label = 'W2V/Decistion Tree')\n",
    "    plt.bar(x + 0.2, data4, 0.2, label = 'W2V/Logistic Regression')\n",
    "    plt.xticks(x, x)\n",
    "    plt.xlabel(\"Groups\")\n",
    "    plt.ylabel(\"F1 score\")\n",
    "    plt.title(\"F1 score According to Model and Featurization Method\")\n",
    "    plt.legend()\n",
    "    plt.show()"
   ]
  },
  {
   "cell_type": "markdown",
   "metadata": {},
   "source": [
    "# Conclusion"
   ]
  },
  {
   "cell_type": "markdown",
   "metadata": {},
   "source": [
    "First lets visualize the resulting metrics of all 4 types of models."
   ]
  },
  {
   "cell_type": "code",
   "execution_count": 38,
   "metadata": {},
   "outputs": [
    {
     "data": {
      "image/png": "[encoded data removed]",
      "text/plain": [
       "<Figure size 1440x720 with 1 Axes>"
      ]
     },
     "metadata": {
      "needs_background": "light"
     },
     "output_type": "display_data"
    },
    {
     "data": {
      "image/png": "[encoded data removed]",
      "text/plain": [
       "<Figure size 1440x720 with 1 Axes>"
      ]
     },
     "metadata": {
      "needs_background": "light"
     },
     "output_type": "display_data"
    },
    {
     "data": {
      "image/png": "[encoded data removed]",
      "text/plain": [
       "<Figure size 1440x720 with 1 Axes>"
      ]
     },
     "metadata": {
      "needs_background": "light"
     },
     "output_type": "display_data"
    }
   ],
   "source": [
    "display_precision()\n",
    "display_recall()\n",
    "display_f1()"
   ]
  },
  {
   "cell_type": "markdown",
   "metadata": {},
   "source": [
    "Given the relatively small size of our dataset and the daunting task that multi-label classification poses we are quite happy with our results. There are quite a few obvious ways however that we could've improved our models given the time and resources. \n",
    "\n",
    "The first of which being the optimization of each models parameters. Given the ability to run this same experiment with a plethora of parameter configurations, we could truly optimize our models to give them the best chance of succeeding. For example W2V has quite a difference in performance when utilizing different vector sizes and TF-IDF as well in relation to the number of features. The same can be said for the maxiterations of Logistic Regression models and the maxdepth of Decision Trees.\n",
    "\n",
    "The next thing that could've been improved is the amount of data that we used. Since we only used 0.1 percent of the data, it would be quite interesting to see what results using more would bring. Word Embeddings work quite well when given a large amount of quality data. Going on this point of quality data, implementing a filter for stop words in our pipeline would also be quite interesting. And lastly on the topic of improvements of data, including the body of the dataset questions would prove to be quite interesting as well. If stop-words are removed, the body could contain incredibly important keywords that when featurized could results in huge bounds in results. \n",
    "\n",
    "Further work however, would need to utilized some sort of data bricking and cloud implementation, or at least parallelization, as the most frequent errors encountered were almost always timeout errors or memory errors. On top of that the long wait time for even the small dataset we used makes it incredibly hard to run many tests to then compare as the entire suite on a fraction of the dataset takes hours."
   ]
  },
  {
   "cell_type": "markdown",
   "metadata": {},
   "source": [
    "# References"
   ]
  },
  {
   "cell_type": "markdown",
   "metadata": {},
   "source": [
    "https://github.com/96malhar/StackOverflow-Tag-Prediction\n",
    "\n",
    "https://www.datatechnotes.com/2021/06/pyspark-decision-tree-classification.html\n",
    "\n",
    "https://spark.apache.org/docs/latest/mllib-feature-extraction.html \n",
    "\n",
    "https://spark.apache.org/docs/3.1.1/api/python/reference/api/pyspark.ml.feature.Word2Vec.html"
   ]
  }
 ],
 "metadata": {
  "kernelspec": {
   "display_name": "Python 3",
   "language": "python",
   "name": "python3"
  },
  "language_info": {
   "codemirror_mode": {
    "name": "ipython",
    "version": 3
   },
   "file_extension": ".py",
   "mimetype": "text/x-python",
   "name": "python",
   "nbconvert_exporter": "python",
   "pygments_lexer": "ipython3",
   "version": "3.8.8"
  }
 },
 "nbformat": 4,
 "nbformat_minor": 4
}
