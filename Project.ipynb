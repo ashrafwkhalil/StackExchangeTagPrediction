{
 "cells": [
  {
   "cell_type": "code",
   "execution_count": 94,
   "metadata": {},
   "outputs": [],
   "source": [
    "import csv\n",
    "import os\n",
    "import sys\n",
    "# Spark imports\n",
    "from pyspark.rdd import RDD\n",
    "from pyspark.sql import DataFrame\n",
    "from pyspark.sql import SparkSession\n",
    "from pyspark import SparkContext\n",
    "from pyspark.sql.functions import desc\n",
    "import pandas as pd\n",
    "from pyspark.sql import SparkSession\n",
    "from pyspark.sql.functions import split, col, udf\n",
    "from pyspark.ml.feature import HashingTF, IDF, Tokenizer\n",
    "from pyspark.sql.types import ArrayType, StringType, FloatType, IntegerType\n",
    "\n",
    "from csv import reader"
   ]
  },
  {
   "cell_type": "code",
   "execution_count": 47,
   "metadata": {},
   "outputs": [],
   "source": [
    "def init_spark():\n",
    "    spark = SparkSession \\\n",
    "        .builder \\\n",
    "        .appName(\"Python Spark SQL basic example\") \\\n",
    "        .config(\"spark.some.config.option\", \"some-value\") \\\n",
    "        .getOrCreate()\n",
    "    return spark"
   ]
  },
  {
   "cell_type": "markdown",
   "metadata": {},
   "source": [
    "<Font size=5 color=red>Investigate the original dataset (obviously, it cannot be used). Take a look at https://stackoverflow.com/questions/13793529/r-error-invalid-type-list-for-variable to see how useless the Body column information could be!\n",
    "\n",
    "The point here is that the body information consists mostly of codes and some weird patterns that are not useful for our purpose. The most important information here is the connection between the title of the questions and tags. So, I removed the Body column from the dataset.</Font>"
   ]
  },
  {
   "cell_type": "code",
   "execution_count": 3,
   "metadata": {},
   "outputs": [],
   "source": [
    "try:\n",
    "    spark = init_spark()\n",
    "\n",
    "    filename1 = \"./Train.csv\"\n",
    "    df2 = spark.read.option(\"multiLine\", 'true').option(\"escape\",\"\\'\").csv(filename1, header=True)\n",
    "    print(df2.count())\n",
    "    print(df2.show(10))    \n",
    "except:\n",
    "    pass"
   ]
  },
  {
   "cell_type": "markdown",
   "metadata": {},
   "source": [
    "<Font size=5 color=red>For removing the Body column, I read all the dataset once using Pandas library. After that, I removed the column and got an export to have a concrete file as our dataset. This part has been ommited from the notebook.</Font>"
   ]
  },
  {
   "cell_type": "code",
   "execution_count": 4,
   "metadata": {},
   "outputs": [],
   "source": [
    "spark = init_spark()\n",
    "\n",
    "filename = \"./TrainWithoutBody.csv\"\n",
    "df1 = spark.read.option(\"multiLine\", 'true').option(\"escape\",\"\\'\").csv(filename, header=True)\n",
    "df1 = df1.drop(\"_c0\")\n",
    "df1 = df1.dropna()\n",
    "\n",
    "rddTags = df1.select(\"Tags\").rdd\n",
    "\n",
    "df1.count()"
   ]
  },
  {
   "cell_type": "code",
   "execution_count": 5,
   "metadata": {},
   "outputs": [
    {
     "name": "stdout",
     "output_type": "stream",
     "text": [
      "+---+--------------------+--------------------+\n",
      "| Id|               Title|                Tags|\n",
      "+---+--------------------+--------------------+\n",
      "|  1|How to check if a...|php image-process...|\n",
      "|  2|How can I prevent...|             firefox|\n",
      "|  3|R Error Invalid t...|r matlab machine-...|\n",
      "|  4|How do I replace ...|     c# url encoding|\n",
      "|  5|How to modify who...|php api file-get-...|\n",
      "+---+--------------------+--------------------+\n",
      "only showing top 5 rows\n",
      "\n"
     ]
    }
   ],
   "source": [
    "df1.show(5)"
   ]
  },
  {
   "cell_type": "markdown",
   "metadata": {},
   "source": [
    "<Font size = 5, color=green>Finding the 100 most used tags (one DT per each most used tag)"
   ]
  },
  {
   "cell_type": "code",
   "execution_count": 6,
   "metadata": {},
   "outputs": [],
   "source": [
    "splittedTags = rddTags.filter(lambda r: r[0] != None).flatMap(lambda r: r[0].split(\" \")).map(lambda r: (r, 1)).reduceByKey(lambda x, y: x + y)\n",
    "\n",
    "splittedTags = splittedTags.sortBy(lambda r: r[1], False) #Sorted with number of usage (you can collect and see)\n",
    "\n",
    "splittedTagsSorted = splittedTags.map(lambda r: r[0]) #Delete this line if you want to see number of times they have been used.\n",
    "\n",
    "# df10 = anSorted.toDF()\n",
    "\n",
    "\n",
    "mostUsedTags = splittedTagsSorted.collect()[0:100]\n",
    "\n"
   ]
  },
  {
   "cell_type": "code",
   "execution_count": 7,
   "metadata": {},
   "outputs": [
    {
     "data": {
      "text/plain": [
       "['c#',\n",
       " 'java',\n",
       " 'php',\n",
       " 'javascript',\n",
       " 'android',\n",
       " 'jquery',\n",
       " 'c++',\n",
       " 'python',\n",
       " 'iphone',\n",
       " 'asp.net',\n",
       " 'mysql',\n",
       " 'html',\n",
       " '.net',\n",
       " 'ios',\n",
       " 'objective-c',\n",
       " 'sql',\n",
       " 'css',\n",
       " 'linux',\n",
       " 'ruby-on-rails',\n",
       " 'windows',\n",
       " 'c',\n",
       " 'sql-server',\n",
       " 'ruby',\n",
       " 'wpf',\n",
       " 'xml',\n",
       " 'ajax',\n",
       " 'database',\n",
       " 'regex',\n",
       " 'windows-7',\n",
       " 'asp.net-mvc',\n",
       " 'xcode',\n",
       " 'django',\n",
       " 'osx',\n",
       " 'arrays',\n",
       " 'vb.net',\n",
       " 'eclipse',\n",
       " 'json',\n",
       " 'facebook',\n",
       " 'ruby-on-rails-3',\n",
       " 'ubuntu',\n",
       " 'performance',\n",
       " 'networking',\n",
       " 'string',\n",
       " 'multithreading',\n",
       " 'winforms',\n",
       " 'security',\n",
       " 'asp.net-mvc-3',\n",
       " 'visual-studio-2010',\n",
       " 'bash',\n",
       " 'homework',\n",
       " 'image',\n",
       " 'wcf',\n",
       " 'html5',\n",
       " 'wordpress',\n",
       " 'web-services',\n",
       " 'visual-studio',\n",
       " 'forms',\n",
       " 'algorithm',\n",
       " 'sql-server-2008',\n",
       " 'linq',\n",
       " 'oracle',\n",
       " 'git',\n",
       " 'query',\n",
       " 'perl',\n",
       " 'apache2',\n",
       " 'flash',\n",
       " 'actionscript-3',\n",
       " 'ipad',\n",
       " 'spring',\n",
       " 'apache',\n",
       " 'silverlight',\n",
       " 'email',\n",
       " 'r',\n",
       " 'cocoa-touch',\n",
       " 'cocoa',\n",
       " 'swing',\n",
       " 'hibernate',\n",
       " 'excel',\n",
       " 'entity-framework',\n",
       " 'file',\n",
       " 'shell',\n",
       " 'flex',\n",
       " 'api',\n",
       " 'list',\n",
       " 'internet-explorer',\n",
       " 'firefox',\n",
       " 'jquery-ui',\n",
       " 'delphi',\n",
       " '.htaccess',\n",
       " 'sqlite',\n",
       " 'qt',\n",
       " 'tsql',\n",
       " 'google-chrome',\n",
       " 'node.js',\n",
       " 'unix',\n",
       " 'windows-xp',\n",
       " 'http',\n",
       " 'svn',\n",
       " 'unit-testing',\n",
       " 'oop']"
      ]
     },
     "execution_count": 7,
     "metadata": {},
     "output_type": "execute_result"
    }
   ],
   "source": [
    "mostUsedTags"
   ]
  },
  {
   "cell_type": "code",
   "execution_count": 8,
   "metadata": {},
   "outputs": [
    {
     "name": "stdout",
     "output_type": "stream",
     "text": [
      "6017243\n"
     ]
    }
   ],
   "source": [
    "print(rddTags.count())"
   ]
  },
  {
   "cell_type": "code",
   "execution_count": 9,
   "metadata": {},
   "outputs": [
    {
     "data": {
      "text/plain": [
       "[Row(Tags='php image-processing file-upload upload mime-types'),\n",
       " Row(Tags='firefox'),\n",
       " Row(Tags='r matlab machine-learning'),\n",
       " Row(Tags='c# url encoding'),\n",
       " Row(Tags='php api file-get-contents'),\n",
       " Row(Tags='proxy active-directory jmeter'),\n",
       " Row(Tags='core-plot'),\n",
       " Row(Tags='c# asp.net windows-phone-7'),\n",
       " Row(Tags='.net javascript code-generation'),\n",
       " Row(Tags='sql variables parameters procedure calls')]"
      ]
     },
     "execution_count": 9,
     "metadata": {},
     "output_type": "execute_result"
    }
   ],
   "source": [
    "rddTags.take(10)"
   ]
  },
  {
   "cell_type": "markdown",
   "metadata": {},
   "source": [
    "<Font size=5.5, color=\"purpule\">Here, I have cleaned the Tags column to only contain the most used tags. For example, I ommited the \"upload\" tag from first group of tags for the first question, because it's not a most used tag."
   ]
  },
  {
   "cell_type": "code",
   "execution_count": 10,
   "metadata": {},
   "outputs": [],
   "source": [
    "def replaceNoneWithString(x):\n",
    "    if (x == None): return \"None\"\n",
    "    else : return x"
   ]
  },
  {
   "cell_type": "markdown",
   "metadata": {},
   "source": [
    "# Subject titles to TF-IDF"
   ]
  },
  {
   "cell_type": "code",
   "execution_count": 16,
   "metadata": {},
   "outputs": [],
   "source": [
    "tokenizer = Tokenizer(inputCol=\"Title\", outputCol=\"transformed_tfidf\")\n",
    "wordsData = tokenizer.transform(df1)\n",
    "\n",
    "hashingTF = HashingTF(inputCol=\"transformed_tfidf\", outputCol=\"rawFeatures\", numFeatures=20)\n",
    "featurizedData = hashingTF.transform(wordsData)\n",
    "\n",
    "featurizedData.take(1)\n",
    "\n",
    "idf = IDF(inputCol=\"rawFeatures\", outputCol=\"features\")\n",
    "idfModel = idf.fit(featurizedData)\n",
    "rescaledData = idfModel.transform(featurizedData)"
   ]
  },
  {
   "cell_type": "code",
   "execution_count": 100,
   "metadata": {},
   "outputs": [
    {
     "name": "stdout",
     "output_type": "stream",
     "text": [
      "+---+--------------------+--------------------+\n",
      "| id|               title|            features|\n",
      "+---+--------------------+--------------------+\n",
      "|  1|How to check if a...|(20,[1,3,4,8,9,10...|\n",
      "|  2|How can I prevent...|(20,[1,2,3,7,12,1...|\n",
      "|  3|R Error Invalid t...|(20,[2,4,5,6,7,17...|\n",
      "|  4|How do I replace ...|(20,[3,6,7,10,13,...|\n",
      "|  5|How to modify who...|(20,[3,5,8,13,15,...|\n",
      "|  6|setting proxy in ...|(20,[0,3,4,7,13,1...|\n",
      "|  7|How to draw barpl...|(20,[3,6,7,8,10,1...|\n",
      "|  8|How to fetch an X...|(20,[0,3,7,8,10,1...|\n",
      "|  9|.NET library for ...|(20,[0,1,3,4],[1....|\n",
      "| 10|SQL Server : proc...|(20,[0,3,6,12,16,...|\n",
      "| 11|How do commercial...|(20,[0,3,6,8,11,1...|\n",
      "| 12|Crappy Random Num...|(20,[0,1,5,19],[1...|\n",
      "| 13|Migrate from Mdae...|(20,[1,3,8,18,19]...|\n",
      "| 14|Where can I find ...|(20,[10,13,16,17,...|\n",
      "| 15|Can I stop window...|(20,[1,2,12,13,15...|\n",
      "| 16|PHP framework URL...|(20,[2,4,10,18],[...|\n",
      "| 17|\"What creates \"\"....|(20,[3,5,8,13,15,...|\n",
      "| 18|WPF: multiple con...|(20,[0,8,12,13,15...|\n",
      "| 19|Play framework au...|(20,[6,11,13,14,1...|\n",
      "| 20|Creating a repeti...|(20,[1,2,7,8,10,1...|\n",
      "+---+--------------------+--------------------+\n",
      "only showing top 20 rows\n",
      "\n"
     ]
    }
   ],
   "source": [
    "rescaledData.select(\"id\", \"title\", \"features\").show()"
   ]
  },
  {
   "cell_type": "markdown",
   "metadata": {},
   "source": [
    "## Clean up tags to include only most-used tags"
   ]
  },
  {
   "cell_type": "code",
   "execution_count": 101,
   "metadata": {},
   "outputs": [],
   "source": [
    "def cleanUpTags(tags):\n",
    "    tags = tags.split(\" \")\n",
    "    tags = [tag for tag in tags if tag in mostUsedTags]\n",
    "    return tags\n",
    "\n",
    "cleanUpTagsUDF = udf(cleanUpTags, ArrayType(StringType()))\n",
    "\n",
    "\n",
    "df = rescaledData.withColumn(\"cleantags\",  cleanUpTagsUDF(col(\"tags\")))"
   ]
  },
  {
   "cell_type": "code",
   "execution_count": 106,
   "metadata": {},
   "outputs": [
    {
     "name": "stdout",
     "output_type": "stream",
     "text": [
      "+---+--------------------+--------------------+--------------------+\n",
      "| id|               title|            features|           cleantags|\n",
      "+---+--------------------+--------------------+--------------------+\n",
      "|  1|How to check if a...|(20,[1,3,4,8,9,10...|               [php]|\n",
      "|  2|How can I prevent...|(20,[1,2,3,7,12,1...|           [firefox]|\n",
      "|  3|R Error Invalid t...|(20,[2,4,5,6,7,17...|                 [r]|\n",
      "|  4|How do I replace ...|(20,[3,6,7,10,13,...|                [c#]|\n",
      "|  5|How to modify who...|(20,[3,5,8,13,15,...|          [php, api]|\n",
      "|  8|How to fetch an X...|(20,[0,3,7,8,10,1...|       [c#, asp.net]|\n",
      "|  9|.NET library for ...|(20,[0,1,3,4],[1....|  [.net, javascript]|\n",
      "| 10|SQL Server : proc...|(20,[0,3,6,12,16,...|               [sql]|\n",
      "| 11|How do commercial...|(20,[0,3,6,8,11,1...|              [.net]|\n",
      "| 12|Crappy Random Num...|(20,[0,1,5,19],[1...|         [algorithm]|\n",
      "| 15|Can I stop window...|(20,[1,2,12,13,15...|         [windows-7]|\n",
      "| 16|PHP framework URL...|(20,[2,4,10,18],[...|               [php]|\n",
      "| 17|\"What creates \"\"....|(20,[3,5,8,13,15,...|                 [r]|\n",
      "| 18|WPF: multiple con...|(20,[0,8,12,13,15...|               [wpf]|\n",
      "| 19|Play framework au...|(20,[6,11,13,14,1...|        [javascript]|\n",
      "| 20|Creating a repeti...|(20,[1,2,7,8,10,1...|          [php, xml]|\n",
      "| 22|Get all +ve numbe...|(20,[3,6,12,13,14...|    [c#, .net, linq]|\n",
      "| 23|TabNavigator cont...|(20,[5,6,8,10,12,...|[actionscript-3, ...|\n",
      "| 25|C# Converting set...|(20,[1,2,3,6,7,8,...|  [c#, linq, string]|\n",
      "| 27|Is my understandi...|(20,[2,5,8,9,15],...|     [visual-studio]|\n",
      "+---+--------------------+--------------------+--------------------+\n",
      "only showing top 20 rows\n",
      "\n"
     ]
    },
    {
     "data": {
      "text/plain": [
       "4522982"
      ]
     },
     "execution_count": 106,
     "metadata": {},
     "output_type": "execute_result"
    }
   ],
   "source": [
    "def filterEmptyRows(tags):\n",
    "    return len(tags)\n",
    "\n",
    "filterEmptyRowsUDF = udf(filterEmptyRows, IntegerType())\n",
    "\n",
    "df = df.filter(filterEmptyRowsUDF(col(\"cleantags\")) > 0)\n",
    "df.select(\"id\", \"title\", \"features\", \"cleantags\").show()\n",
    "df.count()"
   ]
  },
  {
   "cell_type": "markdown",
   "metadata": {},
   "source": [
    "# Split data to test, train and validation sets"
   ]
  },
  {
   "cell_type": "code",
   "execution_count": 110,
   "metadata": {},
   "outputs": [
    {
     "name": "stdout",
     "output_type": "stream",
     "text": [
      "+-------+--------------------+--------------------+--------------------+--------------------+--------------------+--------------------+\n",
      "|     Id|               Title|                Tags|   transformed_tfidf|         rawFeatures|            features|           cleantags|\n",
      "+-------+--------------------+--------------------+--------------------+--------------------+--------------------+--------------------+\n",
      "| 100000|strange behaviour...| c# iphone monotouch|[strange, behavio...|(20,[3,7,8,9,10],...|(20,[3,7,8,9,10],...|        [c#, iphone]|\n",
      "|1000018|iOS: Get the real...|ios objective-c u...|[ios:, get, the, ...|(20,[1,6,8,9,11,1...|(20,[1,6,8,9,11,1...|  [ios, objective-c]|\n",
      "|1000022|Find a file with ...|         c# filepath|[find, a, file, w...|(20,[0,3,7,8,10,1...|(20,[0,3,7,8,10,1...|                [c#]|\n",
      "|1000024|Unable to figure ...|objective-c xcode...|[unable, to, figu...|(20,[3,5,7,8,10,1...|(20,[3,5,7,8,10,1...|[objective-c, xco...|\n",
      "|1000037|Code improvement:...|  c# design-patterns|[code, improvemen...|(20,[0,2,3,7,8,13...|(20,[0,2,3,7,8,13...|                [c#]|\n",
      "|1000057|\"Best way of doin...|android android-l...|[\"best, way, of, ...|(20,[4,7,8,11,13,...|(20,[4,7,8,11,13,...|           [android]|\n",
      "|1000065|How to put consol...|objective-c ios x...|[how, to, put, co...|(20,[2,3,7,8,11,1...|(20,[2,3,7,8,11,1...|[objective-c, ios...|\n",
      "|1000074|Limit user access...|linux ubuntu perm...|[limit, user, acc...|(20,[2,3,5,8,11,1...|(20,[2,3,5,8,11,1...|     [linux, ubuntu]|\n",
      "|1000078|How to develop my...|c# .net sms smpp ...|[how, to, develop...|(20,[0,1,3,8,15],...|(20,[0,1,3,8,15],...|          [c#, .net]|\n",
      "| 100008|Parameter ActionL...|java swing argume...|[parameter, actio...|(20,[4,12],[1.0,1...|(20,[4,12],[1.175...|       [java, swing]|\n",
      "|1000100|Adding const keyw...|        c# system.io|[adding, const, k...|(20,[3,4,6,13,18]...|(20,[3,4,6,13,18]...|                [c#]|\n",
      "|1000114|Issue with consum...|web-services jax-...|[issue, with, con...|(20,[1,6,7,10,12,...|(20,[1,6,7,10,12,...|      [web-services]|\n",
      "|1000118|Error with save! ...|sql ruby-on-rails...|[error, with, sav...|(20,[3,7,10,12,15...|(20,[3,7,10,12,15...|[sql, ruby-on-rails]|\n",
      "|1000120|The use of std::b...|     c++ stl stdbind|[the, use, of, st...|(20,[2,3,7,9,10,1...|(20,[2,3,7,9,10,1...|               [c++]|\n",
      "|1000133|Best way to open ...|c# sockets concur...|[best, way, to, o...|(20,[0,3,4,6,7,8,...|(20,[0,3,4,6,7,8,...|                [c#]|\n",
      "| 100014|Drupal 7 drupal_s...| php drupal drupal-7|[drupal, 7, drupa...|(20,[3,5,7,10,11,...|(20,[3,5,7,10,11,...|               [php]|\n",
      "|1000141|How to get anothe...|cocoa x11 accessi...|[how, to, get, an...|(20,[0,1,2,3,5,6,...|(20,[0,1,2,3,5,6,...|             [cocoa]|\n",
      "|1000146|JPA + Spring how ...|database spring j...|[jpa, +, spring, ...|(20,[3,4,8,10,11,...|(20,[3,4,8,10,11,...|  [database, spring]|\n",
      "|1000151|Android fast pixe...|android image loo...|[android, fast, p...|(20,[3,5,10,16],[...|(20,[3,5,10,16],[...|    [android, image]|\n",
      "|1000157|C# getting path f...|         c# path uri|[c#, getting, pat...|(20,[0,1,3,7,8],[...|(20,[0,1,3,7,8],[...|                [c#]|\n",
      "+-------+--------------------+--------------------+--------------------+--------------------+--------------------+--------------------+\n",
      "only showing top 20 rows\n",
      "\n"
     ]
    }
   ],
   "source": [
    "# TODO\n",
    "train_data, testVal_data = df.randomSplit([.7,.3],seed=1234)\n",
    "test_data, validation_data = testVal_data.randomSplit([.5, .5], seed=1234)"
   ]
  },
  {
   "cell_type": "markdown",
   "metadata": {},
   "source": [
    "# Train DecisionTreeClassifiers"
   ]
  },
  {
   "cell_type": "code",
   "execution_count": null,
   "metadata": {},
   "outputs": [],
   "source": []
  },
  {
   "cell_type": "markdown",
   "metadata": {},
   "source": [
    "# Subject titles to Word2Vec"
   ]
  },
  {
   "cell_type": "code",
   "execution_count": null,
   "metadata": {},
   "outputs": [],
   "source": [
    "# use df as your dataframe and add your column to it "
   ]
  }
 ],
 "metadata": {
  "kernelspec": {
   "display_name": "Python 3",
   "language": "python",
   "name": "python3"
  },
  "language_info": {
   "codemirror_mode": {
    "name": "ipython",
    "version": 3
   },
   "file_extension": ".py",
   "mimetype": "text/x-python",
   "name": "python",
   "nbconvert_exporter": "python",
   "pygments_lexer": "ipython3",
   "version": "3.8.8"
  }
 },
 "nbformat": 4,
 "nbformat_minor": 4
}
