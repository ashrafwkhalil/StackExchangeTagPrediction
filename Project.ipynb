{
 "cells": [
  {
   "cell_type": "code",
   "execution_count": 59,
   "metadata": {},
   "outputs": [],
   "source": [
    "import csv\n",
    "import os\n",
    "import sys\n",
    "# Spark imports\n",
    "from pyspark.rdd import RDD\n",
    "from pyspark.sql import DataFrame\n",
    "from pyspark.sql import SparkSession\n",
    "from pyspark import SparkContext\n",
    "from pyspark.sql.functions import desc\n",
    "import pandas as pd\n",
    "from pyspark.sql import SparkSession\n",
    "from pyspark.sql.functions import split, col, udf, array_contains\n",
    "from pyspark.ml.feature import HashingTF, IDF, Tokenizer\n",
    "from pyspark.sql.types import ArrayType, StringType, FloatType, IntegerType\n",
    "from pyspark.ml.classification import DecisionTreeClassifier\n",
    "from pyspark.ml.evaluation import MulticlassClassificationEvaluator\n",
    "\n",
    "import matplotlib.pyplot as plt\n",
    "\n",
    "from csv import reader\n",
    "from collections import defaultdict"
   ]
  },
  {
   "cell_type": "code",
   "execution_count": 2,
   "metadata": {},
   "outputs": [],
   "source": [
    "def init_spark():\n",
    "    spark = SparkSession \\\n",
    "        .builder \\\n",
    "        .appName(\"Python Spark SQL basic example\") \\\n",
    "        .config(\"spark.some.config.option\", \"some-value\") \\\n",
    "        .getOrCreate()\n",
    "    return spark"
   ]
  },
  {
   "cell_type": "markdown",
   "metadata": {},
   "source": [
    "<Font size=5 color=red>Investigate the original dataset (obviously, it cannot be used). Take a look at https://stackoverflow.com/questions/13793529/r-error-invalid-type-list-for-variable to see how useless the Body column information could be!\n",
    "\n",
    "The point here is that the body information consists mostly of codes and some weird patterns that are not useful for our purpose. The most important information here is the connection between the title of the questions and tags. So, I removed the Body column from the dataset.</Font>"
   ]
  },
  {
   "cell_type": "code",
   "execution_count": 3,
   "metadata": {},
   "outputs": [],
   "source": [
    "try:\n",
    "    spark = init_spark()\n",
    "\n",
    "    filename1 = \"./Train.csv\"\n",
    "    df2 = spark.read.option(\"multiLine\", 'true').option(\"escape\",\"\\'\").csv(filename1, header=True)\n",
    "    print(df2.count())\n",
    "    print(df2.show(10))    \n",
    "except:\n",
    "    pass"
   ]
  },
  {
   "cell_type": "markdown",
   "metadata": {},
   "source": [
    "<Font size=5 color=red>For removing the Body column, I read all the dataset once using Pandas library. After that, I removed the column and got an export to have a concrete file as our dataset. This part has been ommited from the notebook.</Font>"
   ]
  },
  {
   "cell_type": "code",
   "execution_count": 4,
   "metadata": {},
   "outputs": [],
   "source": [
    "spark = init_spark()\n",
    "\n",
    "filename = \"./TrainWithoutBody.csv\"\n",
    "df1 = spark.read.option(\"multiLine\", 'true').option(\"escape\",\"\\'\").csv(filename, header=True)\n",
    "df1 = df1.drop(\"_c0\")\n",
    "df1 = df1.dropna()\n",
    "\n",
    "rddTags = df1.select(\"Tags\").rdd\n",
    "\n",
    "# df1.count()"
   ]
  },
  {
   "cell_type": "code",
   "execution_count": 5,
   "metadata": {},
   "outputs": [],
   "source": [
    "# df1.show(5)"
   ]
  },
  {
   "cell_type": "markdown",
   "metadata": {},
   "source": [
    "<Font size = 5, color=green>Finding the 100 most used tags (one DT per each most used tag)"
   ]
  },
  {
   "cell_type": "code",
   "execution_count": 6,
   "metadata": {},
   "outputs": [],
   "source": [
    "splittedTags = rddTags.filter(lambda r: r[0] != None).flatMap(lambda r: r[0].split(\" \")).map(lambda r: r.replace(\".\", \"\")).map(lambda r: (r, 1)).reduceByKey(lambda x, y: x + y)\n",
    "\n",
    "splittedTags = splittedTags.sortBy(lambda r: r[1], False) #Sorted with number of usage (you can collect and see)\n",
    "\n",
    "splittedTagsSorted = splittedTags.map(lambda r: r[0]) #Delete this line if you want to see number of times they have been used.\n",
    "\n",
    "# df10 = anSorted.toDF()\n",
    "\n",
    "\n",
    "mostUsedTags = splittedTagsSorted.collect()[0:50]\n",
    "\n"
   ]
  },
  {
   "cell_type": "code",
   "execution_count": 7,
   "metadata": {},
   "outputs": [
    {
     "data": {
      "text/plain": [
       "['c#',\n",
       " 'java',\n",
       " 'php',\n",
       " 'javascript',\n",
       " 'android',\n",
       " 'jquery',\n",
       " 'c++',\n",
       " 'python',\n",
       " 'iphone',\n",
       " 'aspnet',\n",
       " 'mysql',\n",
       " 'html',\n",
       " 'net',\n",
       " 'ios',\n",
       " 'objective-c',\n",
       " 'sql',\n",
       " 'css',\n",
       " 'linux',\n",
       " 'ruby-on-rails',\n",
       " 'windows',\n",
       " 'c',\n",
       " 'sql-server',\n",
       " 'ruby',\n",
       " 'wpf',\n",
       " 'xml',\n",
       " 'ajax',\n",
       " 'database',\n",
       " 'regex',\n",
       " 'windows-7',\n",
       " 'aspnet-mvc',\n",
       " 'xcode',\n",
       " 'django',\n",
       " 'osx',\n",
       " 'arrays',\n",
       " 'vbnet',\n",
       " 'eclipse',\n",
       " 'json',\n",
       " 'facebook',\n",
       " 'ruby-on-rails-3',\n",
       " 'ubuntu',\n",
       " 'performance',\n",
       " 'networking',\n",
       " 'string',\n",
       " 'multithreading',\n",
       " 'winforms',\n",
       " 'security',\n",
       " 'aspnet-mvc-3',\n",
       " 'visual-studio-2010',\n",
       " 'bash',\n",
       " 'homework']"
      ]
     },
     "execution_count": 7,
     "metadata": {},
     "output_type": "execute_result"
    }
   ],
   "source": [
    "mostUsedTags"
   ]
  },
  {
   "cell_type": "code",
   "execution_count": 8,
   "metadata": {},
   "outputs": [],
   "source": [
    "# print(rddTags.count())"
   ]
  },
  {
   "cell_type": "code",
   "execution_count": 9,
   "metadata": {},
   "outputs": [],
   "source": [
    "# rddTags.take(10)"
   ]
  },
  {
   "cell_type": "markdown",
   "metadata": {},
   "source": [
    "<Font size=5.5, color=\"purpule\">Here, I have cleaned the Tags column to only contain the most used tags. For example, I ommited the \"upload\" tag from first group of tags for the first question, because it's not a most used tag."
   ]
  },
  {
   "cell_type": "code",
   "execution_count": 10,
   "metadata": {},
   "outputs": [],
   "source": [
    "def replaceNoneWithString(x):\n",
    "    if (x == None): return \"None\"\n",
    "    else : return x"
   ]
  },
  {
   "cell_type": "markdown",
   "metadata": {},
   "source": [
    "# Subject titles to TF-IDF"
   ]
  },
  {
   "cell_type": "code",
   "execution_count": 11,
   "metadata": {},
   "outputs": [],
   "source": [
    "tokenizer = Tokenizer(inputCol=\"Title\", outputCol=\"transformed_tfidf\")\n",
    "wordsData = tokenizer.transform(df1)\n",
    "\n",
    "hashingTF = HashingTF(inputCol=\"transformed_tfidf\", outputCol=\"rawFeatures\", numFeatures=100)\n",
    "featurizedData = hashingTF.transform(wordsData)\n",
    "\n",
    "featurizedData.take(1)\n",
    "\n",
    "idf = IDF(inputCol=\"rawFeatures\", outputCol=\"features\")\n",
    "idfModel = idf.fit(featurizedData)\n",
    "rescaledData = idfModel.transform(featurizedData)"
   ]
  },
  {
   "cell_type": "code",
   "execution_count": 12,
   "metadata": {},
   "outputs": [],
   "source": [
    "# rescaledData.select(\"id\", \"title\", \"features\").show()"
   ]
  },
  {
   "cell_type": "markdown",
   "metadata": {},
   "source": [
    "## Clean up tags to include only most-used tags"
   ]
  },
  {
   "cell_type": "code",
   "execution_count": 13,
   "metadata": {},
   "outputs": [],
   "source": [
    "def cleanUpTags(tags):\n",
    "    tags = tags.split(\" \")\n",
    "    tags = [tag for tag in tags if tag in mostUsedTags]\n",
    "    return tags\n",
    "\n",
    "cleanUpTagsUDF = udf(cleanUpTags, ArrayType(StringType()))\n",
    "\n",
    "\n",
    "df = rescaledData.withColumn(\"cleantags\",  cleanUpTagsUDF(col(\"tags\")))"
   ]
  },
  {
   "cell_type": "code",
   "execution_count": 14,
   "metadata": {},
   "outputs": [
    {
     "data": {
      "text/plain": [
       "3195"
      ]
     },
     "execution_count": 14,
     "metadata": {},
     "output_type": "execute_result"
    }
   ],
   "source": [
    "def filterEmptyRows(tags):\n",
    "    return len(tags)\n",
    "\n",
    "filterEmptyRowsUDF = udf(filterEmptyRows, IntegerType())\n",
    "\n",
    "df = df.filter(filterEmptyRowsUDF(col(\"cleantags\")) > 0)\n",
    "# df.select(\"id\", \"title\", \"features\", \"cleantags\").show()\n",
    "df = df.sample(0.00083, 42)\n",
    "df.count()"
   ]
  },
  {
   "cell_type": "code",
   "execution_count": 15,
   "metadata": {},
   "outputs": [],
   "source": [
    "for tag in mostUsedTags:\n",
    "    df = df.withColumn(tag, (array_contains(df.cleantags, tag)).cast('integer'))\n",
    "\n",
    "# df.select(\"Javascript\").show()"
   ]
  },
  {
   "cell_type": "markdown",
   "metadata": {},
   "source": [
    "# Split data to test, train and validation sets"
   ]
  },
  {
   "cell_type": "code",
   "execution_count": 16,
   "metadata": {},
   "outputs": [],
   "source": [
    "train_data, testVal_data = df.randomSplit([.7,.3],seed=1234)\n",
    "test_data, validation_data = testVal_data.randomSplit([.5, .5], seed=1234)"
   ]
  },
  {
   "cell_type": "code",
   "execution_count": 17,
   "metadata": {
    "scrolled": true
   },
   "outputs": [],
   "source": [
    "# test_data.select(\"features\").show()"
   ]
  },
  {
   "cell_type": "markdown",
   "metadata": {},
   "source": [
    "# Train DecisionTreeClassifiers"
   ]
  },
  {
   "cell_type": "code",
   "execution_count": 18,
   "metadata": {},
   "outputs": [],
   "source": [
    "dtcs = defaultdict()\n",
    "preds = defaultdict()\n",
    "for tag in mostUsedTags:\n",
    "    if tag not in dtcs:\n",
    "        dtcs[tag] = DecisionTreeClassifier(featuresCol=\"features\", labelCol=tag, maxDepth=2).fit(train_data)\n",
    "#         preds[tag] = dtcs[tag].transform(validation_data)\n",
    "\n",
    "# predict later\n",
    "# dtc = DecisionTreeClassifier(featuresCol=\"features\", labelCol=\"javascript\", maxDepth=2)"
   ]
  },
  {
   "cell_type": "code",
   "execution_count": 19,
   "metadata": {
    "scrolled": true
   },
   "outputs": [
    {
     "data": {
      "text/plain": [
       "defaultdict(None,\n",
       "            {'c#': DecisionTreeClassificationModel: uid=DecisionTreeClassifier_09b5e681b8f2, depth=0, numNodes=1, numClasses=2, numFeatures=100,\n",
       "             'java': DecisionTreeClassificationModel: uid=DecisionTreeClassifier_8ee8926517b1, depth=0, numNodes=1, numClasses=2, numFeatures=100,\n",
       "             'php': DecisionTreeClassificationModel: uid=DecisionTreeClassifier_fffd15107491, depth=2, numNodes=5, numClasses=2, numFeatures=100,\n",
       "             'javascript': DecisionTreeClassificationModel: uid=DecisionTreeClassifier_9e268457b8e0, depth=0, numNodes=1, numClasses=2, numFeatures=100,\n",
       "             'android': DecisionTreeClassificationModel: uid=DecisionTreeClassifier_9964cbbe039e, depth=2, numNodes=5, numClasses=2, numFeatures=100,\n",
       "             'jquery': DecisionTreeClassificationModel: uid=DecisionTreeClassifier_d8f607157398, depth=2, numNodes=5, numClasses=2, numFeatures=100,\n",
       "             'c++': DecisionTreeClassificationModel: uid=DecisionTreeClassifier_35895a946891, depth=2, numNodes=7, numClasses=2, numFeatures=100,\n",
       "             'python': DecisionTreeClassificationModel: uid=DecisionTreeClassifier_ea3b85dbff75, depth=2, numNodes=7, numClasses=2, numFeatures=100,\n",
       "             'iphone': DecisionTreeClassificationModel: uid=DecisionTreeClassifier_d0f3e3b2d148, depth=2, numNodes=7, numClasses=2, numFeatures=100,\n",
       "             'aspnet': DecisionTreeClassificationModel: uid=DecisionTreeClassifier_71ca24fd458d, depth=0, numNodes=1, numClasses=1, numFeatures=100,\n",
       "             'mysql': DecisionTreeClassificationModel: uid=DecisionTreeClassifier_614c50abdd3e, depth=0, numNodes=1, numClasses=2, numFeatures=100,\n",
       "             'html': DecisionTreeClassificationModel: uid=DecisionTreeClassifier_59a171fade0d, depth=2, numNodes=7, numClasses=2, numFeatures=100,\n",
       "             'net': DecisionTreeClassificationModel: uid=DecisionTreeClassifier_c84f00720130, depth=0, numNodes=1, numClasses=2, numFeatures=100,\n",
       "             'ios': DecisionTreeClassificationModel: uid=DecisionTreeClassifier_3a9f270e585d, depth=2, numNodes=5, numClasses=2, numFeatures=100,\n",
       "             'objective-c': DecisionTreeClassificationModel: uid=DecisionTreeClassifier_8a8969d62278, depth=2, numNodes=5, numClasses=2, numFeatures=100,\n",
       "             'sql': DecisionTreeClassificationModel: uid=DecisionTreeClassifier_db80f2dba181, depth=0, numNodes=1, numClasses=2, numFeatures=100,\n",
       "             'css': DecisionTreeClassificationModel: uid=DecisionTreeClassifier_66b36d8cf8ae, depth=2, numNodes=5, numClasses=2, numFeatures=100,\n",
       "             'linux': DecisionTreeClassificationModel: uid=DecisionTreeClassifier_0d3f31b3301f, depth=2, numNodes=7, numClasses=2, numFeatures=100,\n",
       "             'ruby-on-rails': DecisionTreeClassificationModel: uid=DecisionTreeClassifier_2442672aa39d, depth=0, numNodes=1, numClasses=2, numFeatures=100,\n",
       "             'windows': DecisionTreeClassificationModel: uid=DecisionTreeClassifier_a740e70cb305, depth=2, numNodes=5, numClasses=2, numFeatures=100,\n",
       "             'c': DecisionTreeClassificationModel: uid=DecisionTreeClassifier_c4e2583e4bcd, depth=2, numNodes=5, numClasses=2, numFeatures=100,\n",
       "             'sql-server': DecisionTreeClassificationModel: uid=DecisionTreeClassifier_d15a5f9159e9, depth=0, numNodes=1, numClasses=2, numFeatures=100,\n",
       "             'ruby': DecisionTreeClassificationModel: uid=DecisionTreeClassifier_202ec525dfaf, depth=0, numNodes=1, numClasses=2, numFeatures=100,\n",
       "             'wpf': DecisionTreeClassificationModel: uid=DecisionTreeClassifier_e96b19f7dcbe, depth=1, numNodes=3, numClasses=2, numFeatures=100,\n",
       "             'xml': DecisionTreeClassificationModel: uid=DecisionTreeClassifier_6f5474d0b3be, depth=0, numNodes=1, numClasses=2, numFeatures=100,\n",
       "             'ajax': DecisionTreeClassificationModel: uid=DecisionTreeClassifier_e22609f59696, depth=2, numNodes=5, numClasses=2, numFeatures=100,\n",
       "             'database': DecisionTreeClassificationModel: uid=DecisionTreeClassifier_f5839764c7e9, depth=0, numNodes=1, numClasses=2, numFeatures=100,\n",
       "             'regex': DecisionTreeClassificationModel: uid=DecisionTreeClassifier_c8e9aaf97539, depth=2, numNodes=5, numClasses=2, numFeatures=100,\n",
       "             'windows-7': DecisionTreeClassificationModel: uid=DecisionTreeClassifier_ebacef192f63, depth=0, numNodes=1, numClasses=2, numFeatures=100,\n",
       "             'aspnet-mvc': DecisionTreeClassificationModel: uid=DecisionTreeClassifier_90aef59f3d0d, depth=0, numNodes=1, numClasses=1, numFeatures=100,\n",
       "             'xcode': DecisionTreeClassificationModel: uid=DecisionTreeClassifier_21a6a824ccd7, depth=2, numNodes=5, numClasses=2, numFeatures=100,\n",
       "             'django': DecisionTreeClassificationModel: uid=DecisionTreeClassifier_b4b0b63cee3d, depth=2, numNodes=5, numClasses=2, numFeatures=100,\n",
       "             'osx': DecisionTreeClassificationModel: uid=DecisionTreeClassifier_92cf092d3cd1, depth=2, numNodes=5, numClasses=2, numFeatures=100,\n",
       "             'arrays': DecisionTreeClassificationModel: uid=DecisionTreeClassifier_d639749bfe6b, depth=1, numNodes=3, numClasses=2, numFeatures=100,\n",
       "             'vbnet': DecisionTreeClassificationModel: uid=DecisionTreeClassifier_d9b6e6d0497b, depth=0, numNodes=1, numClasses=1, numFeatures=100,\n",
       "             'eclipse': DecisionTreeClassificationModel: uid=DecisionTreeClassifier_57020f2df625, depth=0, numNodes=1, numClasses=2, numFeatures=100,\n",
       "             'json': DecisionTreeClassificationModel: uid=DecisionTreeClassifier_8c9f9c1d77f7, depth=0, numNodes=1, numClasses=2, numFeatures=100,\n",
       "             'facebook': DecisionTreeClassificationModel: uid=DecisionTreeClassifier_2e55a160bccc, depth=2, numNodes=5, numClasses=2, numFeatures=100,\n",
       "             'ruby-on-rails-3': DecisionTreeClassificationModel: uid=DecisionTreeClassifier_3f828786a50c, depth=2, numNodes=5, numClasses=2, numFeatures=100,\n",
       "             'ubuntu': DecisionTreeClassificationModel: uid=DecisionTreeClassifier_d2c7407b03c8, depth=2, numNodes=5, numClasses=2, numFeatures=100,\n",
       "             'performance': DecisionTreeClassificationModel: uid=DecisionTreeClassifier_5a20393e1add, depth=2, numNodes=5, numClasses=2, numFeatures=100,\n",
       "             'networking': DecisionTreeClassificationModel: uid=DecisionTreeClassifier_a1e2f99a25ce, depth=2, numNodes=5, numClasses=2, numFeatures=100,\n",
       "             'string': DecisionTreeClassificationModel: uid=DecisionTreeClassifier_3495be527b8d, depth=0, numNodes=1, numClasses=2, numFeatures=100,\n",
       "             'multithreading': DecisionTreeClassificationModel: uid=DecisionTreeClassifier_9cfc9abbea95, depth=1, numNodes=3, numClasses=2, numFeatures=100,\n",
       "             'winforms': DecisionTreeClassificationModel: uid=DecisionTreeClassifier_e65476549b4e, depth=2, numNodes=5, numClasses=2, numFeatures=100,\n",
       "             'security': DecisionTreeClassificationModel: uid=DecisionTreeClassifier_1c1acab3914d, depth=2, numNodes=5, numClasses=2, numFeatures=100,\n",
       "             'aspnet-mvc-3': DecisionTreeClassificationModel: uid=DecisionTreeClassifier_ba9c70d8d651, depth=0, numNodes=1, numClasses=1, numFeatures=100,\n",
       "             'visual-studio-2010': DecisionTreeClassificationModel: uid=DecisionTreeClassifier_8a2be3e6e8e3, depth=2, numNodes=5, numClasses=2, numFeatures=100,\n",
       "             'bash': DecisionTreeClassificationModel: uid=DecisionTreeClassifier_df3ec199745b, depth=2, numNodes=5, numClasses=2, numFeatures=100,\n",
       "             'homework': DecisionTreeClassificationModel: uid=DecisionTreeClassifier_09809b1efdd6, depth=1, numNodes=3, numClasses=2, numFeatures=100})"
      ]
     },
     "execution_count": 19,
     "metadata": {},
     "output_type": "execute_result"
    }
   ],
   "source": [
    "# dtc = dtc.fit(train_data)\n",
    "dtcs"
   ]
  },
  {
   "cell_type": "code",
   "execution_count": 20,
   "metadata": {},
   "outputs": [],
   "source": [
    "# pred = dtc.transform(validation_data)\n",
    "# pred.select(\"javascript\", \"prediction\").show(3)"
   ]
  },
  {
   "cell_type": "code",
   "execution_count": 21,
   "metadata": {},
   "outputs": [],
   "source": [
    "# evaluator=MulticlassClassificationEvaluator(predictionCol=\"prediction\", labelCol=\"javascript\")\n",
    "# acc = evaluator.evaluate(pred)\n",
    " \n",
    "# print(\"Prediction Accuracy: \", acc)\n",
    " \n",
    "# y_pred=pred.select(\"prediction\").collect()\n",
    "# y_orig=pred.select(\"javascript\").collect()"
   ]
  },
  {
   "cell_type": "code",
   "execution_count": 23,
   "metadata": {},
   "outputs": [
    {
     "data": {
      "text/plain": [
       "defaultdict(None,\n",
       "            {'c#': DataFrame[Id: string, Title: string, Tags: string, transformed_tfidf: array<string>, rawFeatures: vector, features: vector, cleantags: array<string>, c#: int, java: int, php: int, javascript: int, android: int, jquery: int, c++: int, python: int, iphone: int, aspnet: int, mysql: int, html: int, net: int, ios: int, objective-c: int, sql: int, css: int, linux: int, ruby-on-rails: int, windows: int, c: int, sql-server: int, ruby: int, wpf: int, xml: int, ajax: int, database: int, regex: int, windows-7: int, aspnet-mvc: int, xcode: int, django: int, osx: int, arrays: int, vbnet: int, eclipse: int, json: int, facebook: int, ruby-on-rails-3: int, ubuntu: int, performance: int, networking: int, string: int, multithreading: int, winforms: int, security: int, aspnet-mvc-3: int, visual-studio-2010: int, bash: int, homework: int, rawPrediction: vector, probability: vector, prediction: double],\n",
       "             'java': DataFrame[Id: string, Title: string, Tags: string, transformed_tfidf: array<string>, rawFeatures: vector, features: vector, cleantags: array<string>, c#: int, java: int, php: int, javascript: int, android: int, jquery: int, c++: int, python: int, iphone: int, aspnet: int, mysql: int, html: int, net: int, ios: int, objective-c: int, sql: int, css: int, linux: int, ruby-on-rails: int, windows: int, c: int, sql-server: int, ruby: int, wpf: int, xml: int, ajax: int, database: int, regex: int, windows-7: int, aspnet-mvc: int, xcode: int, django: int, osx: int, arrays: int, vbnet: int, eclipse: int, json: int, facebook: int, ruby-on-rails-3: int, ubuntu: int, performance: int, networking: int, string: int, multithreading: int, winforms: int, security: int, aspnet-mvc-3: int, visual-studio-2010: int, bash: int, homework: int, rawPrediction: vector, probability: vector, prediction: double],\n",
       "             'php': DataFrame[Id: string, Title: string, Tags: string, transformed_tfidf: array<string>, rawFeatures: vector, features: vector, cleantags: array<string>, c#: int, java: int, php: int, javascript: int, android: int, jquery: int, c++: int, python: int, iphone: int, aspnet: int, mysql: int, html: int, net: int, ios: int, objective-c: int, sql: int, css: int, linux: int, ruby-on-rails: int, windows: int, c: int, sql-server: int, ruby: int, wpf: int, xml: int, ajax: int, database: int, regex: int, windows-7: int, aspnet-mvc: int, xcode: int, django: int, osx: int, arrays: int, vbnet: int, eclipse: int, json: int, facebook: int, ruby-on-rails-3: int, ubuntu: int, performance: int, networking: int, string: int, multithreading: int, winforms: int, security: int, aspnet-mvc-3: int, visual-studio-2010: int, bash: int, homework: int, rawPrediction: vector, probability: vector, prediction: double],\n",
       "             'javascript': DataFrame[Id: string, Title: string, Tags: string, transformed_tfidf: array<string>, rawFeatures: vector, features: vector, cleantags: array<string>, c#: int, java: int, php: int, javascript: int, android: int, jquery: int, c++: int, python: int, iphone: int, aspnet: int, mysql: int, html: int, net: int, ios: int, objective-c: int, sql: int, css: int, linux: int, ruby-on-rails: int, windows: int, c: int, sql-server: int, ruby: int, wpf: int, xml: int, ajax: int, database: int, regex: int, windows-7: int, aspnet-mvc: int, xcode: int, django: int, osx: int, arrays: int, vbnet: int, eclipse: int, json: int, facebook: int, ruby-on-rails-3: int, ubuntu: int, performance: int, networking: int, string: int, multithreading: int, winforms: int, security: int, aspnet-mvc-3: int, visual-studio-2010: int, bash: int, homework: int, rawPrediction: vector, probability: vector, prediction: double],\n",
       "             'android': DataFrame[Id: string, Title: string, Tags: string, transformed_tfidf: array<string>, rawFeatures: vector, features: vector, cleantags: array<string>, c#: int, java: int, php: int, javascript: int, android: int, jquery: int, c++: int, python: int, iphone: int, aspnet: int, mysql: int, html: int, net: int, ios: int, objective-c: int, sql: int, css: int, linux: int, ruby-on-rails: int, windows: int, c: int, sql-server: int, ruby: int, wpf: int, xml: int, ajax: int, database: int, regex: int, windows-7: int, aspnet-mvc: int, xcode: int, django: int, osx: int, arrays: int, vbnet: int, eclipse: int, json: int, facebook: int, ruby-on-rails-3: int, ubuntu: int, performance: int, networking: int, string: int, multithreading: int, winforms: int, security: int, aspnet-mvc-3: int, visual-studio-2010: int, bash: int, homework: int, rawPrediction: vector, probability: vector, prediction: double],\n",
       "             'jquery': DataFrame[Id: string, Title: string, Tags: string, transformed_tfidf: array<string>, rawFeatures: vector, features: vector, cleantags: array<string>, c#: int, java: int, php: int, javascript: int, android: int, jquery: int, c++: int, python: int, iphone: int, aspnet: int, mysql: int, html: int, net: int, ios: int, objective-c: int, sql: int, css: int, linux: int, ruby-on-rails: int, windows: int, c: int, sql-server: int, ruby: int, wpf: int, xml: int, ajax: int, database: int, regex: int, windows-7: int, aspnet-mvc: int, xcode: int, django: int, osx: int, arrays: int, vbnet: int, eclipse: int, json: int, facebook: int, ruby-on-rails-3: int, ubuntu: int, performance: int, networking: int, string: int, multithreading: int, winforms: int, security: int, aspnet-mvc-3: int, visual-studio-2010: int, bash: int, homework: int, rawPrediction: vector, probability: vector, prediction: double],\n",
       "             'c++': DataFrame[Id: string, Title: string, Tags: string, transformed_tfidf: array<string>, rawFeatures: vector, features: vector, cleantags: array<string>, c#: int, java: int, php: int, javascript: int, android: int, jquery: int, c++: int, python: int, iphone: int, aspnet: int, mysql: int, html: int, net: int, ios: int, objective-c: int, sql: int, css: int, linux: int, ruby-on-rails: int, windows: int, c: int, sql-server: int, ruby: int, wpf: int, xml: int, ajax: int, database: int, regex: int, windows-7: int, aspnet-mvc: int, xcode: int, django: int, osx: int, arrays: int, vbnet: int, eclipse: int, json: int, facebook: int, ruby-on-rails-3: int, ubuntu: int, performance: int, networking: int, string: int, multithreading: int, winforms: int, security: int, aspnet-mvc-3: int, visual-studio-2010: int, bash: int, homework: int, rawPrediction: vector, probability: vector, prediction: double],\n",
       "             'python': DataFrame[Id: string, Title: string, Tags: string, transformed_tfidf: array<string>, rawFeatures: vector, features: vector, cleantags: array<string>, c#: int, java: int, php: int, javascript: int, android: int, jquery: int, c++: int, python: int, iphone: int, aspnet: int, mysql: int, html: int, net: int, ios: int, objective-c: int, sql: int, css: int, linux: int, ruby-on-rails: int, windows: int, c: int, sql-server: int, ruby: int, wpf: int, xml: int, ajax: int, database: int, regex: int, windows-7: int, aspnet-mvc: int, xcode: int, django: int, osx: int, arrays: int, vbnet: int, eclipse: int, json: int, facebook: int, ruby-on-rails-3: int, ubuntu: int, performance: int, networking: int, string: int, multithreading: int, winforms: int, security: int, aspnet-mvc-3: int, visual-studio-2010: int, bash: int, homework: int, rawPrediction: vector, probability: vector, prediction: double],\n",
       "             'iphone': DataFrame[Id: string, Title: string, Tags: string, transformed_tfidf: array<string>, rawFeatures: vector, features: vector, cleantags: array<string>, c#: int, java: int, php: int, javascript: int, android: int, jquery: int, c++: int, python: int, iphone: int, aspnet: int, mysql: int, html: int, net: int, ios: int, objective-c: int, sql: int, css: int, linux: int, ruby-on-rails: int, windows: int, c: int, sql-server: int, ruby: int, wpf: int, xml: int, ajax: int, database: int, regex: int, windows-7: int, aspnet-mvc: int, xcode: int, django: int, osx: int, arrays: int, vbnet: int, eclipse: int, json: int, facebook: int, ruby-on-rails-3: int, ubuntu: int, performance: int, networking: int, string: int, multithreading: int, winforms: int, security: int, aspnet-mvc-3: int, visual-studio-2010: int, bash: int, homework: int, rawPrediction: vector, probability: vector, prediction: double],\n",
       "             'aspnet': DataFrame[Id: string, Title: string, Tags: string, transformed_tfidf: array<string>, rawFeatures: vector, features: vector, cleantags: array<string>, c#: int, java: int, php: int, javascript: int, android: int, jquery: int, c++: int, python: int, iphone: int, aspnet: int, mysql: int, html: int, net: int, ios: int, objective-c: int, sql: int, css: int, linux: int, ruby-on-rails: int, windows: int, c: int, sql-server: int, ruby: int, wpf: int, xml: int, ajax: int, database: int, regex: int, windows-7: int, aspnet-mvc: int, xcode: int, django: int, osx: int, arrays: int, vbnet: int, eclipse: int, json: int, facebook: int, ruby-on-rails-3: int, ubuntu: int, performance: int, networking: int, string: int, multithreading: int, winforms: int, security: int, aspnet-mvc-3: int, visual-studio-2010: int, bash: int, homework: int, rawPrediction: vector, probability: vector, prediction: double],\n",
       "             'mysql': DataFrame[Id: string, Title: string, Tags: string, transformed_tfidf: array<string>, rawFeatures: vector, features: vector, cleantags: array<string>, c#: int, java: int, php: int, javascript: int, android: int, jquery: int, c++: int, python: int, iphone: int, aspnet: int, mysql: int, html: int, net: int, ios: int, objective-c: int, sql: int, css: int, linux: int, ruby-on-rails: int, windows: int, c: int, sql-server: int, ruby: int, wpf: int, xml: int, ajax: int, database: int, regex: int, windows-7: int, aspnet-mvc: int, xcode: int, django: int, osx: int, arrays: int, vbnet: int, eclipse: int, json: int, facebook: int, ruby-on-rails-3: int, ubuntu: int, performance: int, networking: int, string: int, multithreading: int, winforms: int, security: int, aspnet-mvc-3: int, visual-studio-2010: int, bash: int, homework: int, rawPrediction: vector, probability: vector, prediction: double],\n",
       "             'html': DataFrame[Id: string, Title: string, Tags: string, transformed_tfidf: array<string>, rawFeatures: vector, features: vector, cleantags: array<string>, c#: int, java: int, php: int, javascript: int, android: int, jquery: int, c++: int, python: int, iphone: int, aspnet: int, mysql: int, html: int, net: int, ios: int, objective-c: int, sql: int, css: int, linux: int, ruby-on-rails: int, windows: int, c: int, sql-server: int, ruby: int, wpf: int, xml: int, ajax: int, database: int, regex: int, windows-7: int, aspnet-mvc: int, xcode: int, django: int, osx: int, arrays: int, vbnet: int, eclipse: int, json: int, facebook: int, ruby-on-rails-3: int, ubuntu: int, performance: int, networking: int, string: int, multithreading: int, winforms: int, security: int, aspnet-mvc-3: int, visual-studio-2010: int, bash: int, homework: int, rawPrediction: vector, probability: vector, prediction: double],\n",
       "             'net': DataFrame[Id: string, Title: string, Tags: string, transformed_tfidf: array<string>, rawFeatures: vector, features: vector, cleantags: array<string>, c#: int, java: int, php: int, javascript: int, android: int, jquery: int, c++: int, python: int, iphone: int, aspnet: int, mysql: int, html: int, net: int, ios: int, objective-c: int, sql: int, css: int, linux: int, ruby-on-rails: int, windows: int, c: int, sql-server: int, ruby: int, wpf: int, xml: int, ajax: int, database: int, regex: int, windows-7: int, aspnet-mvc: int, xcode: int, django: int, osx: int, arrays: int, vbnet: int, eclipse: int, json: int, facebook: int, ruby-on-rails-3: int, ubuntu: int, performance: int, networking: int, string: int, multithreading: int, winforms: int, security: int, aspnet-mvc-3: int, visual-studio-2010: int, bash: int, homework: int, rawPrediction: vector, probability: vector, prediction: double],\n",
       "             'ios': DataFrame[Id: string, Title: string, Tags: string, transformed_tfidf: array<string>, rawFeatures: vector, features: vector, cleantags: array<string>, c#: int, java: int, php: int, javascript: int, android: int, jquery: int, c++: int, python: int, iphone: int, aspnet: int, mysql: int, html: int, net: int, ios: int, objective-c: int, sql: int, css: int, linux: int, ruby-on-rails: int, windows: int, c: int, sql-server: int, ruby: int, wpf: int, xml: int, ajax: int, database: int, regex: int, windows-7: int, aspnet-mvc: int, xcode: int, django: int, osx: int, arrays: int, vbnet: int, eclipse: int, json: int, facebook: int, ruby-on-rails-3: int, ubuntu: int, performance: int, networking: int, string: int, multithreading: int, winforms: int, security: int, aspnet-mvc-3: int, visual-studio-2010: int, bash: int, homework: int, rawPrediction: vector, probability: vector, prediction: double],\n",
       "             'objective-c': DataFrame[Id: string, Title: string, Tags: string, transformed_tfidf: array<string>, rawFeatures: vector, features: vector, cleantags: array<string>, c#: int, java: int, php: int, javascript: int, android: int, jquery: int, c++: int, python: int, iphone: int, aspnet: int, mysql: int, html: int, net: int, ios: int, objective-c: int, sql: int, css: int, linux: int, ruby-on-rails: int, windows: int, c: int, sql-server: int, ruby: int, wpf: int, xml: int, ajax: int, database: int, regex: int, windows-7: int, aspnet-mvc: int, xcode: int, django: int, osx: int, arrays: int, vbnet: int, eclipse: int, json: int, facebook: int, ruby-on-rails-3: int, ubuntu: int, performance: int, networking: int, string: int, multithreading: int, winforms: int, security: int, aspnet-mvc-3: int, visual-studio-2010: int, bash: int, homework: int, rawPrediction: vector, probability: vector, prediction: double],\n",
       "             'sql': DataFrame[Id: string, Title: string, Tags: string, transformed_tfidf: array<string>, rawFeatures: vector, features: vector, cleantags: array<string>, c#: int, java: int, php: int, javascript: int, android: int, jquery: int, c++: int, python: int, iphone: int, aspnet: int, mysql: int, html: int, net: int, ios: int, objective-c: int, sql: int, css: int, linux: int, ruby-on-rails: int, windows: int, c: int, sql-server: int, ruby: int, wpf: int, xml: int, ajax: int, database: int, regex: int, windows-7: int, aspnet-mvc: int, xcode: int, django: int, osx: int, arrays: int, vbnet: int, eclipse: int, json: int, facebook: int, ruby-on-rails-3: int, ubuntu: int, performance: int, networking: int, string: int, multithreading: int, winforms: int, security: int, aspnet-mvc-3: int, visual-studio-2010: int, bash: int, homework: int, rawPrediction: vector, probability: vector, prediction: double],\n",
       "             'css': DataFrame[Id: string, Title: string, Tags: string, transformed_tfidf: array<string>, rawFeatures: vector, features: vector, cleantags: array<string>, c#: int, java: int, php: int, javascript: int, android: int, jquery: int, c++: int, python: int, iphone: int, aspnet: int, mysql: int, html: int, net: int, ios: int, objective-c: int, sql: int, css: int, linux: int, ruby-on-rails: int, windows: int, c: int, sql-server: int, ruby: int, wpf: int, xml: int, ajax: int, database: int, regex: int, windows-7: int, aspnet-mvc: int, xcode: int, django: int, osx: int, arrays: int, vbnet: int, eclipse: int, json: int, facebook: int, ruby-on-rails-3: int, ubuntu: int, performance: int, networking: int, string: int, multithreading: int, winforms: int, security: int, aspnet-mvc-3: int, visual-studio-2010: int, bash: int, homework: int, rawPrediction: vector, probability: vector, prediction: double],\n",
       "             'linux': DataFrame[Id: string, Title: string, Tags: string, transformed_tfidf: array<string>, rawFeatures: vector, features: vector, cleantags: array<string>, c#: int, java: int, php: int, javascript: int, android: int, jquery: int, c++: int, python: int, iphone: int, aspnet: int, mysql: int, html: int, net: int, ios: int, objective-c: int, sql: int, css: int, linux: int, ruby-on-rails: int, windows: int, c: int, sql-server: int, ruby: int, wpf: int, xml: int, ajax: int, database: int, regex: int, windows-7: int, aspnet-mvc: int, xcode: int, django: int, osx: int, arrays: int, vbnet: int, eclipse: int, json: int, facebook: int, ruby-on-rails-3: int, ubuntu: int, performance: int, networking: int, string: int, multithreading: int, winforms: int, security: int, aspnet-mvc-3: int, visual-studio-2010: int, bash: int, homework: int, rawPrediction: vector, probability: vector, prediction: double],\n",
       "             'ruby-on-rails': DataFrame[Id: string, Title: string, Tags: string, transformed_tfidf: array<string>, rawFeatures: vector, features: vector, cleantags: array<string>, c#: int, java: int, php: int, javascript: int, android: int, jquery: int, c++: int, python: int, iphone: int, aspnet: int, mysql: int, html: int, net: int, ios: int, objective-c: int, sql: int, css: int, linux: int, ruby-on-rails: int, windows: int, c: int, sql-server: int, ruby: int, wpf: int, xml: int, ajax: int, database: int, regex: int, windows-7: int, aspnet-mvc: int, xcode: int, django: int, osx: int, arrays: int, vbnet: int, eclipse: int, json: int, facebook: int, ruby-on-rails-3: int, ubuntu: int, performance: int, networking: int, string: int, multithreading: int, winforms: int, security: int, aspnet-mvc-3: int, visual-studio-2010: int, bash: int, homework: int, rawPrediction: vector, probability: vector, prediction: double],\n",
       "             'windows': DataFrame[Id: string, Title: string, Tags: string, transformed_tfidf: array<string>, rawFeatures: vector, features: vector, cleantags: array<string>, c#: int, java: int, php: int, javascript: int, android: int, jquery: int, c++: int, python: int, iphone: int, aspnet: int, mysql: int, html: int, net: int, ios: int, objective-c: int, sql: int, css: int, linux: int, ruby-on-rails: int, windows: int, c: int, sql-server: int, ruby: int, wpf: int, xml: int, ajax: int, database: int, regex: int, windows-7: int, aspnet-mvc: int, xcode: int, django: int, osx: int, arrays: int, vbnet: int, eclipse: int, json: int, facebook: int, ruby-on-rails-3: int, ubuntu: int, performance: int, networking: int, string: int, multithreading: int, winforms: int, security: int, aspnet-mvc-3: int, visual-studio-2010: int, bash: int, homework: int, rawPrediction: vector, probability: vector, prediction: double],\n",
       "             'c': DataFrame[Id: string, Title: string, Tags: string, transformed_tfidf: array<string>, rawFeatures: vector, features: vector, cleantags: array<string>, c#: int, java: int, php: int, javascript: int, android: int, jquery: int, c++: int, python: int, iphone: int, aspnet: int, mysql: int, html: int, net: int, ios: int, objective-c: int, sql: int, css: int, linux: int, ruby-on-rails: int, windows: int, c: int, sql-server: int, ruby: int, wpf: int, xml: int, ajax: int, database: int, regex: int, windows-7: int, aspnet-mvc: int, xcode: int, django: int, osx: int, arrays: int, vbnet: int, eclipse: int, json: int, facebook: int, ruby-on-rails-3: int, ubuntu: int, performance: int, networking: int, string: int, multithreading: int, winforms: int, security: int, aspnet-mvc-3: int, visual-studio-2010: int, bash: int, homework: int, rawPrediction: vector, probability: vector, prediction: double],\n",
       "             'sql-server': DataFrame[Id: string, Title: string, Tags: string, transformed_tfidf: array<string>, rawFeatures: vector, features: vector, cleantags: array<string>, c#: int, java: int, php: int, javascript: int, android: int, jquery: int, c++: int, python: int, iphone: int, aspnet: int, mysql: int, html: int, net: int, ios: int, objective-c: int, sql: int, css: int, linux: int, ruby-on-rails: int, windows: int, c: int, sql-server: int, ruby: int, wpf: int, xml: int, ajax: int, database: int, regex: int, windows-7: int, aspnet-mvc: int, xcode: int, django: int, osx: int, arrays: int, vbnet: int, eclipse: int, json: int, facebook: int, ruby-on-rails-3: int, ubuntu: int, performance: int, networking: int, string: int, multithreading: int, winforms: int, security: int, aspnet-mvc-3: int, visual-studio-2010: int, bash: int, homework: int, rawPrediction: vector, probability: vector, prediction: double],\n",
       "             'ruby': DataFrame[Id: string, Title: string, Tags: string, transformed_tfidf: array<string>, rawFeatures: vector, features: vector, cleantags: array<string>, c#: int, java: int, php: int, javascript: int, android: int, jquery: int, c++: int, python: int, iphone: int, aspnet: int, mysql: int, html: int, net: int, ios: int, objective-c: int, sql: int, css: int, linux: int, ruby-on-rails: int, windows: int, c: int, sql-server: int, ruby: int, wpf: int, xml: int, ajax: int, database: int, regex: int, windows-7: int, aspnet-mvc: int, xcode: int, django: int, osx: int, arrays: int, vbnet: int, eclipse: int, json: int, facebook: int, ruby-on-rails-3: int, ubuntu: int, performance: int, networking: int, string: int, multithreading: int, winforms: int, security: int, aspnet-mvc-3: int, visual-studio-2010: int, bash: int, homework: int, rawPrediction: vector, probability: vector, prediction: double],\n",
       "             'wpf': DataFrame[Id: string, Title: string, Tags: string, transformed_tfidf: array<string>, rawFeatures: vector, features: vector, cleantags: array<string>, c#: int, java: int, php: int, javascript: int, android: int, jquery: int, c++: int, python: int, iphone: int, aspnet: int, mysql: int, html: int, net: int, ios: int, objective-c: int, sql: int, css: int, linux: int, ruby-on-rails: int, windows: int, c: int, sql-server: int, ruby: int, wpf: int, xml: int, ajax: int, database: int, regex: int, windows-7: int, aspnet-mvc: int, xcode: int, django: int, osx: int, arrays: int, vbnet: int, eclipse: int, json: int, facebook: int, ruby-on-rails-3: int, ubuntu: int, performance: int, networking: int, string: int, multithreading: int, winforms: int, security: int, aspnet-mvc-3: int, visual-studio-2010: int, bash: int, homework: int, rawPrediction: vector, probability: vector, prediction: double],\n",
       "             'xml': DataFrame[Id: string, Title: string, Tags: string, transformed_tfidf: array<string>, rawFeatures: vector, features: vector, cleantags: array<string>, c#: int, java: int, php: int, javascript: int, android: int, jquery: int, c++: int, python: int, iphone: int, aspnet: int, mysql: int, html: int, net: int, ios: int, objective-c: int, sql: int, css: int, linux: int, ruby-on-rails: int, windows: int, c: int, sql-server: int, ruby: int, wpf: int, xml: int, ajax: int, database: int, regex: int, windows-7: int, aspnet-mvc: int, xcode: int, django: int, osx: int, arrays: int, vbnet: int, eclipse: int, json: int, facebook: int, ruby-on-rails-3: int, ubuntu: int, performance: int, networking: int, string: int, multithreading: int, winforms: int, security: int, aspnet-mvc-3: int, visual-studio-2010: int, bash: int, homework: int, rawPrediction: vector, probability: vector, prediction: double],\n",
       "             'ajax': DataFrame[Id: string, Title: string, Tags: string, transformed_tfidf: array<string>, rawFeatures: vector, features: vector, cleantags: array<string>, c#: int, java: int, php: int, javascript: int, android: int, jquery: int, c++: int, python: int, iphone: int, aspnet: int, mysql: int, html: int, net: int, ios: int, objective-c: int, sql: int, css: int, linux: int, ruby-on-rails: int, windows: int, c: int, sql-server: int, ruby: int, wpf: int, xml: int, ajax: int, database: int, regex: int, windows-7: int, aspnet-mvc: int, xcode: int, django: int, osx: int, arrays: int, vbnet: int, eclipse: int, json: int, facebook: int, ruby-on-rails-3: int, ubuntu: int, performance: int, networking: int, string: int, multithreading: int, winforms: int, security: int, aspnet-mvc-3: int, visual-studio-2010: int, bash: int, homework: int, rawPrediction: vector, probability: vector, prediction: double],\n",
       "             'database': DataFrame[Id: string, Title: string, Tags: string, transformed_tfidf: array<string>, rawFeatures: vector, features: vector, cleantags: array<string>, c#: int, java: int, php: int, javascript: int, android: int, jquery: int, c++: int, python: int, iphone: int, aspnet: int, mysql: int, html: int, net: int, ios: int, objective-c: int, sql: int, css: int, linux: int, ruby-on-rails: int, windows: int, c: int, sql-server: int, ruby: int, wpf: int, xml: int, ajax: int, database: int, regex: int, windows-7: int, aspnet-mvc: int, xcode: int, django: int, osx: int, arrays: int, vbnet: int, eclipse: int, json: int, facebook: int, ruby-on-rails-3: int, ubuntu: int, performance: int, networking: int, string: int, multithreading: int, winforms: int, security: int, aspnet-mvc-3: int, visual-studio-2010: int, bash: int, homework: int, rawPrediction: vector, probability: vector, prediction: double],\n",
       "             'regex': DataFrame[Id: string, Title: string, Tags: string, transformed_tfidf: array<string>, rawFeatures: vector, features: vector, cleantags: array<string>, c#: int, java: int, php: int, javascript: int, android: int, jquery: int, c++: int, python: int, iphone: int, aspnet: int, mysql: int, html: int, net: int, ios: int, objective-c: int, sql: int, css: int, linux: int, ruby-on-rails: int, windows: int, c: int, sql-server: int, ruby: int, wpf: int, xml: int, ajax: int, database: int, regex: int, windows-7: int, aspnet-mvc: int, xcode: int, django: int, osx: int, arrays: int, vbnet: int, eclipse: int, json: int, facebook: int, ruby-on-rails-3: int, ubuntu: int, performance: int, networking: int, string: int, multithreading: int, winforms: int, security: int, aspnet-mvc-3: int, visual-studio-2010: int, bash: int, homework: int, rawPrediction: vector, probability: vector, prediction: double],\n",
       "             'windows-7': DataFrame[Id: string, Title: string, Tags: string, transformed_tfidf: array<string>, rawFeatures: vector, features: vector, cleantags: array<string>, c#: int, java: int, php: int, javascript: int, android: int, jquery: int, c++: int, python: int, iphone: int, aspnet: int, mysql: int, html: int, net: int, ios: int, objective-c: int, sql: int, css: int, linux: int, ruby-on-rails: int, windows: int, c: int, sql-server: int, ruby: int, wpf: int, xml: int, ajax: int, database: int, regex: int, windows-7: int, aspnet-mvc: int, xcode: int, django: int, osx: int, arrays: int, vbnet: int, eclipse: int, json: int, facebook: int, ruby-on-rails-3: int, ubuntu: int, performance: int, networking: int, string: int, multithreading: int, winforms: int, security: int, aspnet-mvc-3: int, visual-studio-2010: int, bash: int, homework: int, rawPrediction: vector, probability: vector, prediction: double],\n",
       "             'aspnet-mvc': DataFrame[Id: string, Title: string, Tags: string, transformed_tfidf: array<string>, rawFeatures: vector, features: vector, cleantags: array<string>, c#: int, java: int, php: int, javascript: int, android: int, jquery: int, c++: int, python: int, iphone: int, aspnet: int, mysql: int, html: int, net: int, ios: int, objective-c: int, sql: int, css: int, linux: int, ruby-on-rails: int, windows: int, c: int, sql-server: int, ruby: int, wpf: int, xml: int, ajax: int, database: int, regex: int, windows-7: int, aspnet-mvc: int, xcode: int, django: int, osx: int, arrays: int, vbnet: int, eclipse: int, json: int, facebook: int, ruby-on-rails-3: int, ubuntu: int, performance: int, networking: int, string: int, multithreading: int, winforms: int, security: int, aspnet-mvc-3: int, visual-studio-2010: int, bash: int, homework: int, rawPrediction: vector, probability: vector, prediction: double],\n",
       "             'xcode': DataFrame[Id: string, Title: string, Tags: string, transformed_tfidf: array<string>, rawFeatures: vector, features: vector, cleantags: array<string>, c#: int, java: int, php: int, javascript: int, android: int, jquery: int, c++: int, python: int, iphone: int, aspnet: int, mysql: int, html: int, net: int, ios: int, objective-c: int, sql: int, css: int, linux: int, ruby-on-rails: int, windows: int, c: int, sql-server: int, ruby: int, wpf: int, xml: int, ajax: int, database: int, regex: int, windows-7: int, aspnet-mvc: int, xcode: int, django: int, osx: int, arrays: int, vbnet: int, eclipse: int, json: int, facebook: int, ruby-on-rails-3: int, ubuntu: int, performance: int, networking: int, string: int, multithreading: int, winforms: int, security: int, aspnet-mvc-3: int, visual-studio-2010: int, bash: int, homework: int, rawPrediction: vector, probability: vector, prediction: double],\n",
       "             'django': DataFrame[Id: string, Title: string, Tags: string, transformed_tfidf: array<string>, rawFeatures: vector, features: vector, cleantags: array<string>, c#: int, java: int, php: int, javascript: int, android: int, jquery: int, c++: int, python: int, iphone: int, aspnet: int, mysql: int, html: int, net: int, ios: int, objective-c: int, sql: int, css: int, linux: int, ruby-on-rails: int, windows: int, c: int, sql-server: int, ruby: int, wpf: int, xml: int, ajax: int, database: int, regex: int, windows-7: int, aspnet-mvc: int, xcode: int, django: int, osx: int, arrays: int, vbnet: int, eclipse: int, json: int, facebook: int, ruby-on-rails-3: int, ubuntu: int, performance: int, networking: int, string: int, multithreading: int, winforms: int, security: int, aspnet-mvc-3: int, visual-studio-2010: int, bash: int, homework: int, rawPrediction: vector, probability: vector, prediction: double],\n",
       "             'osx': DataFrame[Id: string, Title: string, Tags: string, transformed_tfidf: array<string>, rawFeatures: vector, features: vector, cleantags: array<string>, c#: int, java: int, php: int, javascript: int, android: int, jquery: int, c++: int, python: int, iphone: int, aspnet: int, mysql: int, html: int, net: int, ios: int, objective-c: int, sql: int, css: int, linux: int, ruby-on-rails: int, windows: int, c: int, sql-server: int, ruby: int, wpf: int, xml: int, ajax: int, database: int, regex: int, windows-7: int, aspnet-mvc: int, xcode: int, django: int, osx: int, arrays: int, vbnet: int, eclipse: int, json: int, facebook: int, ruby-on-rails-3: int, ubuntu: int, performance: int, networking: int, string: int, multithreading: int, winforms: int, security: int, aspnet-mvc-3: int, visual-studio-2010: int, bash: int, homework: int, rawPrediction: vector, probability: vector, prediction: double],\n",
       "             'arrays': DataFrame[Id: string, Title: string, Tags: string, transformed_tfidf: array<string>, rawFeatures: vector, features: vector, cleantags: array<string>, c#: int, java: int, php: int, javascript: int, android: int, jquery: int, c++: int, python: int, iphone: int, aspnet: int, mysql: int, html: int, net: int, ios: int, objective-c: int, sql: int, css: int, linux: int, ruby-on-rails: int, windows: int, c: int, sql-server: int, ruby: int, wpf: int, xml: int, ajax: int, database: int, regex: int, windows-7: int, aspnet-mvc: int, xcode: int, django: int, osx: int, arrays: int, vbnet: int, eclipse: int, json: int, facebook: int, ruby-on-rails-3: int, ubuntu: int, performance: int, networking: int, string: int, multithreading: int, winforms: int, security: int, aspnet-mvc-3: int, visual-studio-2010: int, bash: int, homework: int, rawPrediction: vector, probability: vector, prediction: double],\n",
       "             'vbnet': DataFrame[Id: string, Title: string, Tags: string, transformed_tfidf: array<string>, rawFeatures: vector, features: vector, cleantags: array<string>, c#: int, java: int, php: int, javascript: int, android: int, jquery: int, c++: int, python: int, iphone: int, aspnet: int, mysql: int, html: int, net: int, ios: int, objective-c: int, sql: int, css: int, linux: int, ruby-on-rails: int, windows: int, c: int, sql-server: int, ruby: int, wpf: int, xml: int, ajax: int, database: int, regex: int, windows-7: int, aspnet-mvc: int, xcode: int, django: int, osx: int, arrays: int, vbnet: int, eclipse: int, json: int, facebook: int, ruby-on-rails-3: int, ubuntu: int, performance: int, networking: int, string: int, multithreading: int, winforms: int, security: int, aspnet-mvc-3: int, visual-studio-2010: int, bash: int, homework: int, rawPrediction: vector, probability: vector, prediction: double],\n",
       "             'eclipse': DataFrame[Id: string, Title: string, Tags: string, transformed_tfidf: array<string>, rawFeatures: vector, features: vector, cleantags: array<string>, c#: int, java: int, php: int, javascript: int, android: int, jquery: int, c++: int, python: int, iphone: int, aspnet: int, mysql: int, html: int, net: int, ios: int, objective-c: int, sql: int, css: int, linux: int, ruby-on-rails: int, windows: int, c: int, sql-server: int, ruby: int, wpf: int, xml: int, ajax: int, database: int, regex: int, windows-7: int, aspnet-mvc: int, xcode: int, django: int, osx: int, arrays: int, vbnet: int, eclipse: int, json: int, facebook: int, ruby-on-rails-3: int, ubuntu: int, performance: int, networking: int, string: int, multithreading: int, winforms: int, security: int, aspnet-mvc-3: int, visual-studio-2010: int, bash: int, homework: int, rawPrediction: vector, probability: vector, prediction: double],\n",
       "             'json': DataFrame[Id: string, Title: string, Tags: string, transformed_tfidf: array<string>, rawFeatures: vector, features: vector, cleantags: array<string>, c#: int, java: int, php: int, javascript: int, android: int, jquery: int, c++: int, python: int, iphone: int, aspnet: int, mysql: int, html: int, net: int, ios: int, objective-c: int, sql: int, css: int, linux: int, ruby-on-rails: int, windows: int, c: int, sql-server: int, ruby: int, wpf: int, xml: int, ajax: int, database: int, regex: int, windows-7: int, aspnet-mvc: int, xcode: int, django: int, osx: int, arrays: int, vbnet: int, eclipse: int, json: int, facebook: int, ruby-on-rails-3: int, ubuntu: int, performance: int, networking: int, string: int, multithreading: int, winforms: int, security: int, aspnet-mvc-3: int, visual-studio-2010: int, bash: int, homework: int, rawPrediction: vector, probability: vector, prediction: double],\n",
       "             'facebook': DataFrame[Id: string, Title: string, Tags: string, transformed_tfidf: array<string>, rawFeatures: vector, features: vector, cleantags: array<string>, c#: int, java: int, php: int, javascript: int, android: int, jquery: int, c++: int, python: int, iphone: int, aspnet: int, mysql: int, html: int, net: int, ios: int, objective-c: int, sql: int, css: int, linux: int, ruby-on-rails: int, windows: int, c: int, sql-server: int, ruby: int, wpf: int, xml: int, ajax: int, database: int, regex: int, windows-7: int, aspnet-mvc: int, xcode: int, django: int, osx: int, arrays: int, vbnet: int, eclipse: int, json: int, facebook: int, ruby-on-rails-3: int, ubuntu: int, performance: int, networking: int, string: int, multithreading: int, winforms: int, security: int, aspnet-mvc-3: int, visual-studio-2010: int, bash: int, homework: int, rawPrediction: vector, probability: vector, prediction: double],\n",
       "             'ruby-on-rails-3': DataFrame[Id: string, Title: string, Tags: string, transformed_tfidf: array<string>, rawFeatures: vector, features: vector, cleantags: array<string>, c#: int, java: int, php: int, javascript: int, android: int, jquery: int, c++: int, python: int, iphone: int, aspnet: int, mysql: int, html: int, net: int, ios: int, objective-c: int, sql: int, css: int, linux: int, ruby-on-rails: int, windows: int, c: int, sql-server: int, ruby: int, wpf: int, xml: int, ajax: int, database: int, regex: int, windows-7: int, aspnet-mvc: int, xcode: int, django: int, osx: int, arrays: int, vbnet: int, eclipse: int, json: int, facebook: int, ruby-on-rails-3: int, ubuntu: int, performance: int, networking: int, string: int, multithreading: int, winforms: int, security: int, aspnet-mvc-3: int, visual-studio-2010: int, bash: int, homework: int, rawPrediction: vector, probability: vector, prediction: double],\n",
       "             'ubuntu': DataFrame[Id: string, Title: string, Tags: string, transformed_tfidf: array<string>, rawFeatures: vector, features: vector, cleantags: array<string>, c#: int, java: int, php: int, javascript: int, android: int, jquery: int, c++: int, python: int, iphone: int, aspnet: int, mysql: int, html: int, net: int, ios: int, objective-c: int, sql: int, css: int, linux: int, ruby-on-rails: int, windows: int, c: int, sql-server: int, ruby: int, wpf: int, xml: int, ajax: int, database: int, regex: int, windows-7: int, aspnet-mvc: int, xcode: int, django: int, osx: int, arrays: int, vbnet: int, eclipse: int, json: int, facebook: int, ruby-on-rails-3: int, ubuntu: int, performance: int, networking: int, string: int, multithreading: int, winforms: int, security: int, aspnet-mvc-3: int, visual-studio-2010: int, bash: int, homework: int, rawPrediction: vector, probability: vector, prediction: double],\n",
       "             'performance': DataFrame[Id: string, Title: string, Tags: string, transformed_tfidf: array<string>, rawFeatures: vector, features: vector, cleantags: array<string>, c#: int, java: int, php: int, javascript: int, android: int, jquery: int, c++: int, python: int, iphone: int, aspnet: int, mysql: int, html: int, net: int, ios: int, objective-c: int, sql: int, css: int, linux: int, ruby-on-rails: int, windows: int, c: int, sql-server: int, ruby: int, wpf: int, xml: int, ajax: int, database: int, regex: int, windows-7: int, aspnet-mvc: int, xcode: int, django: int, osx: int, arrays: int, vbnet: int, eclipse: int, json: int, facebook: int, ruby-on-rails-3: int, ubuntu: int, performance: int, networking: int, string: int, multithreading: int, winforms: int, security: int, aspnet-mvc-3: int, visual-studio-2010: int, bash: int, homework: int, rawPrediction: vector, probability: vector, prediction: double],\n",
       "             'networking': DataFrame[Id: string, Title: string, Tags: string, transformed_tfidf: array<string>, rawFeatures: vector, features: vector, cleantags: array<string>, c#: int, java: int, php: int, javascript: int, android: int, jquery: int, c++: int, python: int, iphone: int, aspnet: int, mysql: int, html: int, net: int, ios: int, objective-c: int, sql: int, css: int, linux: int, ruby-on-rails: int, windows: int, c: int, sql-server: int, ruby: int, wpf: int, xml: int, ajax: int, database: int, regex: int, windows-7: int, aspnet-mvc: int, xcode: int, django: int, osx: int, arrays: int, vbnet: int, eclipse: int, json: int, facebook: int, ruby-on-rails-3: int, ubuntu: int, performance: int, networking: int, string: int, multithreading: int, winforms: int, security: int, aspnet-mvc-3: int, visual-studio-2010: int, bash: int, homework: int, rawPrediction: vector, probability: vector, prediction: double],\n",
       "             'string': DataFrame[Id: string, Title: string, Tags: string, transformed_tfidf: array<string>, rawFeatures: vector, features: vector, cleantags: array<string>, c#: int, java: int, php: int, javascript: int, android: int, jquery: int, c++: int, python: int, iphone: int, aspnet: int, mysql: int, html: int, net: int, ios: int, objective-c: int, sql: int, css: int, linux: int, ruby-on-rails: int, windows: int, c: int, sql-server: int, ruby: int, wpf: int, xml: int, ajax: int, database: int, regex: int, windows-7: int, aspnet-mvc: int, xcode: int, django: int, osx: int, arrays: int, vbnet: int, eclipse: int, json: int, facebook: int, ruby-on-rails-3: int, ubuntu: int, performance: int, networking: int, string: int, multithreading: int, winforms: int, security: int, aspnet-mvc-3: int, visual-studio-2010: int, bash: int, homework: int, rawPrediction: vector, probability: vector, prediction: double],\n",
       "             'multithreading': DataFrame[Id: string, Title: string, Tags: string, transformed_tfidf: array<string>, rawFeatures: vector, features: vector, cleantags: array<string>, c#: int, java: int, php: int, javascript: int, android: int, jquery: int, c++: int, python: int, iphone: int, aspnet: int, mysql: int, html: int, net: int, ios: int, objective-c: int, sql: int, css: int, linux: int, ruby-on-rails: int, windows: int, c: int, sql-server: int, ruby: int, wpf: int, xml: int, ajax: int, database: int, regex: int, windows-7: int, aspnet-mvc: int, xcode: int, django: int, osx: int, arrays: int, vbnet: int, eclipse: int, json: int, facebook: int, ruby-on-rails-3: int, ubuntu: int, performance: int, networking: int, string: int, multithreading: int, winforms: int, security: int, aspnet-mvc-3: int, visual-studio-2010: int, bash: int, homework: int, rawPrediction: vector, probability: vector, prediction: double],\n",
       "             'winforms': DataFrame[Id: string, Title: string, Tags: string, transformed_tfidf: array<string>, rawFeatures: vector, features: vector, cleantags: array<string>, c#: int, java: int, php: int, javascript: int, android: int, jquery: int, c++: int, python: int, iphone: int, aspnet: int, mysql: int, html: int, net: int, ios: int, objective-c: int, sql: int, css: int, linux: int, ruby-on-rails: int, windows: int, c: int, sql-server: int, ruby: int, wpf: int, xml: int, ajax: int, database: int, regex: int, windows-7: int, aspnet-mvc: int, xcode: int, django: int, osx: int, arrays: int, vbnet: int, eclipse: int, json: int, facebook: int, ruby-on-rails-3: int, ubuntu: int, performance: int, networking: int, string: int, multithreading: int, winforms: int, security: int, aspnet-mvc-3: int, visual-studio-2010: int, bash: int, homework: int, rawPrediction: vector, probability: vector, prediction: double],\n",
       "             'security': DataFrame[Id: string, Title: string, Tags: string, transformed_tfidf: array<string>, rawFeatures: vector, features: vector, cleantags: array<string>, c#: int, java: int, php: int, javascript: int, android: int, jquery: int, c++: int, python: int, iphone: int, aspnet: int, mysql: int, html: int, net: int, ios: int, objective-c: int, sql: int, css: int, linux: int, ruby-on-rails: int, windows: int, c: int, sql-server: int, ruby: int, wpf: int, xml: int, ajax: int, database: int, regex: int, windows-7: int, aspnet-mvc: int, xcode: int, django: int, osx: int, arrays: int, vbnet: int, eclipse: int, json: int, facebook: int, ruby-on-rails-3: int, ubuntu: int, performance: int, networking: int, string: int, multithreading: int, winforms: int, security: int, aspnet-mvc-3: int, visual-studio-2010: int, bash: int, homework: int, rawPrediction: vector, probability: vector, prediction: double],\n",
       "             'aspnet-mvc-3': DataFrame[Id: string, Title: string, Tags: string, transformed_tfidf: array<string>, rawFeatures: vector, features: vector, cleantags: array<string>, c#: int, java: int, php: int, javascript: int, android: int, jquery: int, c++: int, python: int, iphone: int, aspnet: int, mysql: int, html: int, net: int, ios: int, objective-c: int, sql: int, css: int, linux: int, ruby-on-rails: int, windows: int, c: int, sql-server: int, ruby: int, wpf: int, xml: int, ajax: int, database: int, regex: int, windows-7: int, aspnet-mvc: int, xcode: int, django: int, osx: int, arrays: int, vbnet: int, eclipse: int, json: int, facebook: int, ruby-on-rails-3: int, ubuntu: int, performance: int, networking: int, string: int, multithreading: int, winforms: int, security: int, aspnet-mvc-3: int, visual-studio-2010: int, bash: int, homework: int, rawPrediction: vector, probability: vector, prediction: double],\n",
       "             'visual-studio-2010': DataFrame[Id: string, Title: string, Tags: string, transformed_tfidf: array<string>, rawFeatures: vector, features: vector, cleantags: array<string>, c#: int, java: int, php: int, javascript: int, android: int, jquery: int, c++: int, python: int, iphone: int, aspnet: int, mysql: int, html: int, net: int, ios: int, objective-c: int, sql: int, css: int, linux: int, ruby-on-rails: int, windows: int, c: int, sql-server: int, ruby: int, wpf: int, xml: int, ajax: int, database: int, regex: int, windows-7: int, aspnet-mvc: int, xcode: int, django: int, osx: int, arrays: int, vbnet: int, eclipse: int, json: int, facebook: int, ruby-on-rails-3: int, ubuntu: int, performance: int, networking: int, string: int, multithreading: int, winforms: int, security: int, aspnet-mvc-3: int, visual-studio-2010: int, bash: int, homework: int, rawPrediction: vector, probability: vector, prediction: double],\n",
       "             'bash': DataFrame[Id: string, Title: string, Tags: string, transformed_tfidf: array<string>, rawFeatures: vector, features: vector, cleantags: array<string>, c#: int, java: int, php: int, javascript: int, android: int, jquery: int, c++: int, python: int, iphone: int, aspnet: int, mysql: int, html: int, net: int, ios: int, objective-c: int, sql: int, css: int, linux: int, ruby-on-rails: int, windows: int, c: int, sql-server: int, ruby: int, wpf: int, xml: int, ajax: int, database: int, regex: int, windows-7: int, aspnet-mvc: int, xcode: int, django: int, osx: int, arrays: int, vbnet: int, eclipse: int, json: int, facebook: int, ruby-on-rails-3: int, ubuntu: int, performance: int, networking: int, string: int, multithreading: int, winforms: int, security: int, aspnet-mvc-3: int, visual-studio-2010: int, bash: int, homework: int, rawPrediction: vector, probability: vector, prediction: double],\n",
       "             'homework': DataFrame[Id: string, Title: string, Tags: string, transformed_tfidf: array<string>, rawFeatures: vector, features: vector, cleantags: array<string>, c#: int, java: int, php: int, javascript: int, android: int, jquery: int, c++: int, python: int, iphone: int, aspnet: int, mysql: int, html: int, net: int, ios: int, objective-c: int, sql: int, css: int, linux: int, ruby-on-rails: int, windows: int, c: int, sql-server: int, ruby: int, wpf: int, xml: int, ajax: int, database: int, regex: int, windows-7: int, aspnet-mvc: int, xcode: int, django: int, osx: int, arrays: int, vbnet: int, eclipse: int, json: int, facebook: int, ruby-on-rails-3: int, ubuntu: int, performance: int, networking: int, string: int, multithreading: int, winforms: int, security: int, aspnet-mvc-3: int, visual-studio-2010: int, bash: int, homework: int, rawPrediction: vector, probability: vector, prediction: double]})"
      ]
     },
     "execution_count": 23,
     "metadata": {},
     "output_type": "execute_result"
    }
   ],
   "source": [
    "preds = defaultdict()\n",
    "for tag in mostUsedTags:\n",
    "    if tag not in preds:\n",
    "        preds[tag] = dtcs[tag].transform(validation_data)\n",
    "preds"
   ]
  },
  {
   "cell_type": "markdown",
   "metadata": {},
   "source": [
    "# Subject titles to Word2Vec"
   ]
  },
  {
   "cell_type": "code",
   "execution_count": 22,
   "metadata": {},
   "outputs": [],
   "source": [
    "# use df as your dataframe and add your column to it "
   ]
  }
 ],
 "metadata": {
  "kernelspec": {
   "display_name": "Python 3",
   "language": "python",
   "name": "python3"
  },
  "language_info": {
   "codemirror_mode": {
    "name": "ipython",
    "version": 3
   },
   "file_extension": ".py",
   "mimetype": "text/x-python",
   "name": "python",
   "nbconvert_exporter": "python",
   "pygments_lexer": "ipython3",
   "version": "3.8.8"
  }
 },
 "nbformat": 4,
 "nbformat_minor": 4
}
